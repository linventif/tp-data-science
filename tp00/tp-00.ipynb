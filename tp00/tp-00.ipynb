{
 "cells": [
  {
   "cell_type": "code",
   "execution_count": 1,
   "id": "fac44afe",
   "metadata": {},
   "outputs": [
    {
     "name": "stdout",
     "output_type": "stream",
     "text": [
      "579\n",
      "56088\n",
      "99250068772098856700831462057469632637295940819886900519816298881382867104749399077921128661426144638055424236936271872492800352741649902118143819672601569998100120790496759517636465445895625741609866209900500198407153244604778968016963028050310261417615914468729918240685487878617645976939063464357986165711730976399478507649228686341466967167910126653342134942744851463899927487092486610977146112763567101672645953132196481439339873017088140414661271198500333255713096142335151414630651683065518784081203678487703002802082091236603519026256880624499681781387227574035484831271515683123742149095569260463609655977700938844580611931246495166208695540313698140011638027322566252689780838136351828795314272162111222231170901715612355701347552371530013693855379834865667060014643302459100429783653966913783002290784283455628283355470529932956051484477129333881159930212758687602795088579230431661696010232187390436601614145603241902386663442520160735566561\n"
     ]
    }
   ],
   "source": [
    "print(123+456)\n",
    "print(123*456)\n",
    "print(123**456)"
   ]
  },
  {
   "cell_type": "code",
   "execution_count": 2,
   "id": "0477834e",
   "metadata": {},
   "outputs": [
    {
     "name": "stdout",
     "output_type": "stream",
     "text": [
      "2.7333333333333334\n",
      "2\n",
      "33\n"
     ]
    }
   ],
   "source": [
    "print(123/45)\n",
    "print(123//45)\n",
    "print(123%45)"
   ]
  },
  {
   "cell_type": "code",
   "execution_count": 2,
   "id": "f0aa0b3c",
   "metadata": {},
   "outputs": [
    {
     "ename": "ZeroDivisionError",
     "evalue": "division by zero",
     "output_type": "error",
     "traceback": [
      "\u001b[0;31m---------------------------------------------------------------------------\u001b[0m",
      "\u001b[0;31mZeroDivisionError\u001b[0m                         Traceback (most recent call last)",
      "Cell \u001b[0;32mIn [2], line 1\u001b[0m\n\u001b[0;32m----> 1\u001b[0m \u001b[38;5;28mprint\u001b[39m(\u001b[38;5;241;43m42\u001b[39;49m\u001b[38;5;241;43m/\u001b[39;49m\u001b[38;5;241;43m0\u001b[39;49m)\n",
      "\u001b[0;31mZeroDivisionError\u001b[0m: division by zero"
     ]
    }
   ],
   "source": [
    "print(42/0)"
   ]
  },
  {
   "cell_type": "code",
   "execution_count": 3,
   "id": "3eb87c02",
   "metadata": {},
   "outputs": [
    {
     "ename": "NameError",
     "evalue": "name 'exp' is not defined",
     "output_type": "error",
     "traceback": [
      "\u001b[0;31m---------------------------------------------------------------------------\u001b[0m",
      "\u001b[0;31mNameError\u001b[0m                                 Traceback (most recent call last)",
      "Cell \u001b[0;32mIn [3], line 1\u001b[0m\n\u001b[0;32m----> 1\u001b[0m \u001b[43mexp\u001b[49m(\u001b[38;5;241m1.0\u001b[39m)\n",
      "\u001b[0;31mNameError\u001b[0m: name 'exp' is not defined"
     ]
    }
   ],
   "source": [
    "exp(1.0)"
   ]
  },
  {
   "cell_type": "code",
   "execution_count": 8,
   "id": "a9bddaf6",
   "metadata": {},
   "outputs": [
    {
     "name": "stdout",
     "output_type": "stream",
     "text": [
      "2.718281828459045\n",
      "2.718281828459045\n"
     ]
    }
   ],
   "source": [
    "# import le plus prudent\n",
    "import math\n",
    "print(math.exp(1.0))\n",
    "# ou\n",
    "# mais il existe un risque de confusion entre librairies\n",
    "from math import exp\n",
    "print(exp(1.0))"
   ]
  },
  {
   "cell_type": "code",
   "execution_count": 10,
   "id": "7c3eba20",
   "metadata": {},
   "outputs": [
    {
     "name": "stdout",
     "output_type": "stream",
     "text": [
      "<class 'int'>\n",
      "<class 'str'>\n",
      "totototototo\n"
     ]
    }
   ],
   "source": [
    "x=1\n",
    "print(type(x))\n",
    "x=\"toto\"\n",
    "print(type(x))\n",
    "print(3*x)"
   ]
  },
  {
   "cell_type": "code",
   "execution_count": 93,
   "id": "121f856a",
   "metadata": {},
   "outputs": [
    {
     "name": "stdout",
     "output_type": "stream",
     "text": [
      "3858565\n"
     ]
    }
   ],
   "source": [
    "fnc = lambda x: x ** 4 + 10 * x **3 + 100 * x + 1789\n",
    "print(fnc(42))"
   ]
  },
  {
   "cell_type": "code",
   "execution_count": 23,
   "id": "dcfae048",
   "metadata": {},
   "outputs": [
    {
     "name": "stdout",
     "output_type": "stream",
     "text": [
      "8\n",
      "1\n",
      "128\n",
      "[2, 4, 8]\n",
      "False\n",
      "True\n"
     ]
    }
   ],
   "source": [
    "tbl=[1,2,4,8,16,32,64,128]\n",
    "print(len(tbl))\n",
    "print(tbl[0])\n",
    "print(tbl[-1])\n",
    "print(tbl[1:4])\n",
    "print(\"z\" in tbl)\n",
    "print(2 in tbl)"
   ]
  },
  {
   "cell_type": "code",
   "execution_count": 37,
   "id": "f5ee9f86",
   "metadata": {},
   "outputs": [
    {
     "name": "stdout",
     "output_type": "stream",
     "text": [
      "4\n",
      "('abc', 1.5)\n",
      "<class 'tuple'>\n",
      "<class 'int'>\n",
      "<class 'str'>\n",
      "<class 'tuple'>\n"
     ]
    }
   ],
   "source": [
    "tpl = (1, \"abc\", 1.5, 'a')\n",
    "print(len(tpl))\n",
    "print(tpl[1:-1])\n",
    "print(type(tpl))\n",
    "print(type(tpl[0]))\n",
    "print(type(tpl[1]))"
   ]
  },
  {
   "cell_type": "code",
   "execution_count": 38,
   "id": "2fa2ea6e",
   "metadata": {},
   "outputs": [
    {
     "name": "stdout",
     "output_type": "stream",
     "text": [
      "[1, 'abc', 1.5, 'a']\n",
      "[1, 1.5, 'a']\n",
      "[1, 3.0, 'a']\n",
      "[1, 3.0, 'a', 'abc']\n",
      "['abc', 'a', 3.0, 1]\n"
     ]
    }
   ],
   "source": [
    "lst = [1, \"abc\", 1.5, 'a']\n",
    "print(lst)\n",
    "lst.pop(1)\n",
    "print(lst)\n",
    "lst[1] *= 2\n",
    "print(lst)\n",
    "lst.append(\"abc\")\n",
    "print(lst)\n",
    "lst.reverse()\n",
    "print(lst)"
   ]
  },
  {
   "cell_type": "code",
   "execution_count": 35,
   "id": "5e8fff72",
   "metadata": {},
   "outputs": [
    {
     "name": "stdout",
     "output_type": "stream",
     "text": [
      "{\n",
      "    \"forename\": \"Alice\",\n",
      "    \"age\": 42,\n",
      "    \"height\": 1.6\n",
      "}\n",
      "3\n",
      "1.6\n",
      "{\n",
      "    \"forename\": \"Alice\",\n",
      "    \"age\": 42,\n",
      "    \"height\": 1.6,\n",
      "    \"weight\": 53.5,\n",
      "    \"hobbies\": [\n",
      "        \"painting\",\n",
      "        \"breaking\"\n",
      "    ]\n",
      "}\n",
      "True\n"
     ]
    }
   ],
   "source": [
    "dic = {\n",
    "    \"forename\": \"Alice\",\n",
    "    \"age\": 42,\n",
    "    \"height\": 1.60\n",
    "}\n",
    "print(json.dumps(dic, indent=4))\n",
    "print(len(dic))\n",
    "print(dic[\"height\"])\n",
    "dic[\"weight\"] = 53.5\n",
    "dic[\"hobbies\"] = [\"painting\", \"breaking\", \"hiking\"]\n",
    "dic[\"hobbies\"].pop(-1)\n",
    "print(json.dumps(dic, indent=4))\n",
    "print(\"breaking\" in dic[\"hobbies\"])"
   ]
  },
  {
   "cell_type": "code",
   "execution_count": 32,
   "id": "6f33c97c",
   "metadata": {
    "scrolled": true
   },
   "outputs": [
    {
     "name": "stdout",
     "output_type": "stream",
     "text": [
      "[\n",
      "    0,\n",
      "    10,\n",
      "    20,\n",
      "    30,\n",
      "    40,\n",
      "    50,\n",
      "    60,\n",
      "    70,\n",
      "    80,\n",
      "    90,\n",
      "    100\n",
      "]\n",
      "{\n",
      "    \"0\": 0,\n",
      "    \"1\": 1,\n",
      "    \"2\": 4,\n",
      "    \"3\": 9,\n",
      "    \"4\": 16,\n",
      "    \"5\": 25,\n",
      "    \"6\": 36,\n",
      "    \"7\": 49,\n",
      "    \"8\": 64,\n",
      "    \"9\": 81\n",
      "}\n",
      "{\n",
      "    \"0\": 0,\n",
      "    \"1\": 1,\n",
      "    \"2\": 4,\n",
      "    \"3\": 9,\n",
      "    \"4\": 16,\n",
      "    \"5\": 25,\n",
      "    \"6\": 36,\n",
      "    \"7\": 49,\n",
      "    \"8\": 64,\n",
      "    \"9\": 81,\n",
      "    \"10\": 100\n",
      "}\n"
     ]
    }
   ],
   "source": [
    "lst = [ x for x in range(100+1) if x%10 == 0 ]\n",
    "print(json.dumps(lst, indent=4))\n",
    "dic = {}\n",
    "for x in range(10):\n",
    "    dic[x] = x ** 2\n",
    "print(json.dumps(dic, indent=4))\n",
    "dic = {}\n",
    "for x in range(10+1):\n",
    "    dic[x] = x ** 2\n",
    "print(json.dumps(dic, indent=4))"
   ]
  },
  {
   "cell_type": "code",
   "execution_count": 97,
   "id": "22b5e029",
   "metadata": {
    "scrolled": true
   },
   "outputs": [
    {
     "name": "stdout",
     "output_type": "stream",
     "text": [
      "285\n",
      "386614659739941950597622922368810419475443850\n"
     ]
    }
   ],
   "source": [
    "fnc = lambda k,n: sum(x**k for x in range(n) )\n",
    "print(fnc(2, 10))\n",
    "print(fnc(22, 100))"
   ]
  },
  {
   "cell_type": "code",
   "execution_count": 106,
   "id": "46e17ff5",
   "metadata": {},
   "outputs": [
    {
     "name": "stdout",
     "output_type": "stream",
     "text": [
      "Name:\n",
      "fe\n",
      "Age:\n",
      "65\n",
      "Name: fe; Age: 65; Binary Age: 0b1000001; Age + 30: 95\n",
      "3.141593\n"
     ]
    }
   ],
   "source": [
    "import math\n",
    "print(round(math.pi, 6))\n",
    "print(\"Name:\")\n",
    "name = input()\n",
    "print(\"Age:\")\n",
    "age = int(input())\n",
    "print(f\"Name: {name}; Age: {age}; Binary Age: {bin(age)}; Age + 30: {age + 30}\")\n"
   ]
  },
  {
   "cell_type": "code",
   "execution_count": 131,
   "id": "d781b51a",
   "metadata": {
    "scrolled": true
   },
   "outputs": [
    {
     "name": "stdout",
     "output_type": "stream",
     "text": [
      "etiquette_fruit,nom_fruit,poids,largeur,hauteur,score_couleur\n",
      "2,mandarine,115.92,7.06,7.53,0.88\n",
      "1,pomme,126.78,8.86,5.92,0.6\n",
      "2,mandarine,110.56,5.98,5.55,0.84\n",
      "1,pomme,138.56,7.58,6.84,0.48\n",
      "1,pomme,131.2,7.84,5.96,0.6\n",
      "2,mandarine,82.54,6.28,4.83,0.78\n",
      "2,mandarine,98.14,7.2,6.42,0.63\n",
      "1,pomme,113.73,8.8,6.65,0.43\n",
      "1,pomme,135.35,8.4,5.65,0.56\n",
      "1,pomme,115.37,7.59,3.77,0.51\n",
      "2,mandarine,75.52,5.57,5.52,0.66\n",
      "2,mandarine,109.36,6.49,7.4,0.72\n",
      "2,mandarine,93.76,7.02,7.96,0.75\n",
      "2,mandarine,80.64,7.38,5.24,0.91\n",
      "1,pomme,145.94,8.73,7.09,0.49\n",
      "1,pomme,99.09,9.7,5.18,0.52\n",
      "2,mandarine,102.86,7.01,5.73,0.69\n",
      "1,pomme,158.91,8.06,5.63,0.72\n",
      "2,mandarine,111.23,6.06,6.45,0.89\n",
      "1,pomme,118.94,8.76,6.19,0.6\n",
      "2,mandarine,94.91,7.24,8.79,0.95\n",
      "1,pomme,112.47,6.8,6.61,0.51\n",
      "1,pomme,120.67,8.54,6.36,0.53\n",
      "1,pomme,142.49,9.43,5.76,0.39\n",
      "1,pomme,85.57,8.07,5.56,0.48\n",
      "2,mandarine,102.12,6.92,7.4,0.93\n",
      "1,pomme,123.27,8.38,6.23,0.58\n",
      "2,mandarine,38.59,7.79,5.57,0.66\n",
      "2,mandarine,82.9,7.17,4.18,0.83\n",
      "1,pomme,125.18,8.64,5.07,0.4\n",
      "2,mandarine,94.6,7.59,5.89,0.73\n",
      "1,pomme,106.25,9.47,5.99,0.73\n",
      "2,mandarine,94.73,8.27,6.47,0.78\n",
      "1,pomme,127.63,7.32,5.84,0.64\n",
      "2,mandarine,66.25,6.19,5.33,0.75\n",
      "1,pomme,159.96,8.54,4.47,0.67\n",
      "2,mandarine,107.22,7.89,5.35,0.8\n",
      "2,mandarine,94.04,6.24,6.3,0.82\n",
      "1,pomme,98.92,8.09,7.38,0.64\n",
      "2,mandarine,64.6,6.94,6.46,0.8\n",
      "1,pomme,131.29,8.62,6.67,0.49\n",
      "2,mandarine,72.6,6.71,4.86,0.66\n",
      "1,pomme,115.54,8.01,7.1,0.63\n",
      "1,pomme,101.27,8.96,8.02,0.46\n",
      "1,pomme,119.53,8.93,6.95,0.57\n",
      "2,mandarine,89.33,6.03,8.21,0.6\n",
      "2,mandarine,104.39,7.12,6.09,0.74\n",
      "1,pomme,103.33,6.98,7.07,0.49\n",
      "2,mandarine,86.11,5.89,3.3,0.85\n",
      "2,mandarine,88.11,5.27,5.62,0.73\n"
     ]
    }
   ],
   "source": [
    "with open(\"/home/infoetu/gregoire.launaybecue.etu/tp-data-science/tp_mm00_res/data_mm00_fruits.csv\", encoding=\"utf-8\") as f:\n",
    "    idx = 0\n",
    "    for line in f:\n",
    "        idx += 1\n",
    "        if (idx%2 == 0): continue\n",
    "        print(line, end=\"\")"
   ]
  },
  {
   "cell_type": "code",
   "execution_count": 148,
   "id": "c86a9c8b",
   "metadata": {
    "scrolled": true
   },
   "outputs": [
    {
     "name": "stdout",
     "output_type": "stream",
     "text": [
      "\n",
      "a\n",
      "b\n",
      "c\n",
      "d\n",
      "e\n",
      "f\n",
      "g\n",
      "h\n",
      "i\n",
      "j\n",
      "k\n",
      "l\n",
      "m\n",
      "n\n",
      "o\n",
      "p\n",
      "q\n",
      "r\n",
      "s\n",
      "t\n",
      "u\n",
      "v\n",
      "w\n",
      "x\n",
      "y\n",
      "z\n",
      "A\n",
      "B\n",
      "C\n",
      "D\n",
      "E\n",
      "F\n",
      "G\n",
      "H\n",
      "I\n",
      "J\n",
      "K\n",
      "L\n",
      "M\n",
      "N\n",
      "O\n",
      "P\n",
      "Q\n",
      "R\n",
      "S\n",
      "T\n",
      "U\n",
      "V\n",
      "W\n",
      "X\n",
      "Y\n",
      "Z"
     ]
    }
   ],
   "source": [
    "f = open(\"/home/infoetu/gregoire.launaybecue.etu/tp-data-science/tp_mm00_res/result_mm00_alphabet.csv\", \"w\")\n",
    "for i in range(26):\n",
    "    f.write(f\"\\n{chr(ord('a') + i )}\")\n",
    "    \n",
    "for i in range(26):\n",
    "    f.write(f\"\\n{chr(ord('A') + i )}\")\n",
    "f.close()\n",
    "\n",
    "with open(\"/home/infoetu/gregoire.launaybecue.etu/tp-data-science/tp_mm00_res/result_mm00_alphabet.csv\", encoding=\"utf-8\") as f:\n",
    "    idx = 0\n",
    "    for line in f:\n",
    "        idx += 1\n",
    "        print(line, end=\"\")"
   ]
  },
  {
   "cell_type": "code",
   "execution_count": 17,
   "id": "1bcda233",
   "metadata": {},
   "outputs": [
    {
     "name": "stdout",
     "output_type": "stream",
     "text": [
      "dEf\n",
      "aBc\n"
     ]
    }
   ],
   "source": [
    "def caesar_coder(s, n):\n",
    "  return \"\".join([chr((ord(c) - ord('a' if c.islower() else 'A') + n) % 26 + ord('a' if c.islower() else 'A')) if c.isalpha() else c for c in s])\n",
    "\n",
    "def caesar_decoder(s, n):\n",
    "  return caesar_coder(s, -n)\n",
    "  \n",
    "print(caesar_coder(\"aBc\", 3))\n",
    "print(caesar_decoder(\"dEf\", 3))"
   ]
  },
  {
   "cell_type": "code",
   "execution_count": 46,
   "id": "6a0f9f50",
   "metadata": {},
   "outputs": [
    {
     "name": "stdout",
     "output_type": "stream",
     "text": [
      "{\n",
      "    \"fruits\": {\n",
      "        \"apple\": 8,\n",
      "        \"orange\": 0\n",
      "    },\n",
      "    \"vegetables\": {\n",
      "        \"potatoes\": 3\n",
      "    }\n",
      "}\n",
      "{\n",
      "    \"fruits\": 8,\n",
      "    \"vegetables\": 3\n",
      "}\n"
     ]
    }
   ],
   "source": [
    "import json\n",
    "\n",
    "def do_inventory(lst):\n",
    "  inventory = {}\n",
    "  for action, item, category, quantity in lst:\n",
    "    if category not in inventory:\n",
    "      inventory[category] = {}\n",
    "    if action == \"add\":\n",
    "      if item not in inventory[category]:\n",
    "        inventory[category][item] = 0\n",
    "      inventory[category][item] += quantity\n",
    "    elif action == \"remove\" and item in inventory[category]:\n",
    "      inventory[category][item] -= quantity\n",
    "      inventory[category][item] = max(0, inventory[category][item])\n",
    "  return inventory\n",
    "\n",
    "def inventory_report(inventory):\n",
    "  report = {}\n",
    "  for category, items in inventory.items():\n",
    "    report[category] = sum(items.values())\n",
    "  return report\n",
    "\n",
    "actions = [\n",
    "  (\"add\", \"apple\", \"fruits\", 10),\n",
    "  (\"add\", \"orange\", \"fruits\", 5),\n",
    "  (\"remove\", \"apple\", \"fruits\", 2),\n",
    "  (\"add\", \"potatoes\", \"vegetables\", 3),\n",
    "  (\"remove\", \"orange\", \"fruits\", 7),\n",
    "  (\"remove\", \"cucumber\", \"vegetables\", 5)\n",
    "]\n",
    "inventory = do_inventory(actions)\n",
    "print(json.dumps(inventory, indent=4))\n",
    "print(json.dumps(inventory_report(inventory), indent=4))"
   ]
  },
  {
   "cell_type": "code",
   "execution_count": 51,
   "id": "13a84ba2",
   "metadata": {},
   "outputs": [],
   "source": [
    "# open /home/infoetu/gregoire.launaybecue.etu/tp-data-science/tp_mm00_res/data_mm00_work-times.csv\n",
    "# read data (employee,date,arrival_time,departure_time) calculate différence then write result in\n",
    "#/home/infoetu/gregoire.launaybecue.etu/tp-data-science/tp_mm00_res/result_mm00_work-summary.csv\n",
    "# employee,total_work_hours\n",
    "# Alice,16.25\n",
    "# Bob,16.25\n",
    "import csv\n",
    "from datetime import datetime\n",
    "\n",
    "def work_summary(input_file, output_file):\n",
    "  with open(input_file, encoding=\"utf-8\") as f:\n",
    "    reader = csv.reader(f)\n",
    "    next(reader)\n",
    "    data = {}\n",
    "    for employee, date, arrival_time, departure_time in reader:\n",
    "      if employee not in data:\n",
    "        data[employee] = 0\n",
    "      arrival = datetime.strptime(arrival_time, \"%H:%M\")\n",
    "      departure = datetime.strptime(departure_time, \"%H:%M\")\n",
    "      data[employee] += round((departure - arrival).seconds / 3600)\n",
    "  with open(output_file, \"w\") as f:\n",
    "    writer = csv.writer(f)\n",
    "    writer.writerow([\"employee\", \"total_work_hours\"])\n",
    "    for employee, total_work_hours in data.items():\n",
    "      writer.writerow([employee, total_work_hours])\n",
    "\n",
    "work_summary(\"/home/infoetu/gregoire.launaybecue.etu/tp-data-science/tp_mm00_res/data_mm00_work-times.csv\", \"/home/infoetu/gregoire.launaybecue.etu/tp-data-science/tp_mm00_res/result_mm00_work-summary.csv\")"
   ]
  }
 ],
 "metadata": {
  "kernelspec": {
   "display_name": "Python 3",
   "language": "python",
   "name": "python3"
  },
  "language_info": {
   "codemirror_mode": {
    "name": "ipython",
    "version": 3
   },
   "file_extension": ".py",
   "mimetype": "text/x-python",
   "name": "python",
   "nbconvert_exporter": "python",
   "pygments_lexer": "ipython3",
   "version": "3.12.3"
  }
 },
 "nbformat": 4,
 "nbformat_minor": 5
}
