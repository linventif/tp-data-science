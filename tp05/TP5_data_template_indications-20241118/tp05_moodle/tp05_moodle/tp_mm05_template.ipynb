{
 "cells": [
  {
   "cell_type": "markdown",
   "id": "83ac3396-25d8-4dea-aa4b-2164e1e2517f",
   "metadata": {},
   "source": [
    "# R5.A.12 & R5.B.10 - Modélisation Mathématique - TP 05 \n",
    "_Antoine Nongaillard 2024–2025_\n",
    "\n",
    "La __régression linéaire__ est sans aucun doute l’algorithme de __Machine Learning (ML)__ le plus simple qui soit. Comme tous les algorithmes de ML, il est instancié à partir d’exemples, et permet ensuite de généraliser à de nouvelles données. Ce modèle est suffisamment simple pour qu’une solution mathématique immédiate existe dans tous les cas. Il «suffit» de _calibrer le modèle_ et non de l’_entraîner_ comme avec les réseaux de neurones ou les approches basées sur\n",
    "l’apprentissage par renforcement.\n",
    "\n",
    "En guise d’illustration on prendra ici un exemple trivial avec quelques données, qui pourraient par exemple correspondre à prédiction du poids d’un individu à partir de sa taille, la température en fonction de l’altitude, ou les ventes d’un produit en fonction de sa qualité.\n",
    "\n",
    "Toutes les méthodes du framework que nous allons utiliser, __ScikitLearn__, fonctionnent avec des `np.array`. \n",
    "\n",
    "La technique d’utilisation est toujours la même :\n",
    "\n",
    "1. récupérer les données sous forme de `np.array`\n",
    "2. créer un modèle\n",
    "3. calibrer ce modèle avec la méthode `fit(...)`\n",
    "4. généraliser (faire des prédictions) avec la méthode `predict(...)`"
   ]
  },
  {
   "cell_type": "code",
   "execution_count": null,
   "id": "05e44d05-2bf0-4d27-a05f-8b8248cf8f65",
   "metadata": {},
   "outputs": [
    {
     "ename": "",
     "evalue": "",
     "output_type": "error",
     "traceback": [
      "\u001b[1;31mRunning cells with 'Python 3.12.3' requires the ipykernel package.\n",
      "\u001b[1;31mRun the following command to install 'ipykernel' into the Python environment. \n",
      "\u001b[1;31mCommand: '/bin/python3 -m pip install ipykernel -U --user --force-reinstall'"
     ]
    }
   ],
   "source": [
    "# imports \n",
    "# exo 1\n",
    "import numpy as np\n",
    "from sklearn.linear_model import LinearRegression\n",
    "from sklearn.metrics import mean_squared_error, mean_absolute_error, r2_score , root_mean_squared_error\n",
    "import matplotlib.pyplot as plt\n",
    "# exo 2\n",
    "from sklearn.preprocessing import PolynomialFeatures\n",
    "# exo 3\n",
    "import pandas as pd\n",
    "from sklearn.model_selection import train_test_split\n",
    "import seaborn as sns\n",
    "# chemins\n",
    "chemin='data/'"
   ]
  },
  {
   "cell_type": "markdown",
   "id": "caa34886-82e6-490e-92fb-64e20a5258e3",
   "metadata": {},
   "source": [
    "# Exercice 1 : Une première regression linéaire\n",
    "\n",
    "__Q1.__ Mettez en forme les observations $(x_i, y_i)$ suivantes afin qu’elles soient utilisables : \n",
    "\n",
    "        (5, 5), (15,20), (25, 14), (35, 32), (45, 22), (55, 38)\n",
    "        \n",
    "Affichez-les comme nuage de points sur une grille."
   ]
  },
  {
   "cell_type": "markdown",
   "id": "737ef2be-88b3-458e-9d42-2b5c056867a0",
   "metadata": {},
   "source": [
    "__Q2.__ Créez le modèle de régression qui représente le mieux ces observations, c’est-à-dire la droite minimisant l’écart avec les points."
   ]
  },
  {
   "cell_type": "markdown",
   "id": "28fca4b0-004a-4ce2-830a-ba8aae9bdd8c",
   "metadata": {},
   "source": [
    "__Q3.__ Quel est l’équation de la droite obtenue ainsi ? Autrement dit, quelles sont les valeurs de la pente et de l’ordonnée à l’origine ?"
   ]
  },
  {
   "cell_type": "markdown",
   "id": "9cc53753-6f28-44d5-a25d-3e4ff2157422",
   "metadata": {},
   "source": [
    "__Q4.__ Puisque nous disposons d’un modèle, effectuons quelques prédictions. Quelles sont les valeurs prédites pour $x_1 = 20$ et $x_2 =40$ ?"
   ]
  },
  {
   "cell_type": "markdown",
   "id": "d2465748-ca5f-4557-92ed-55550eeedb57",
   "metadata": {},
   "source": [
    "__Q5.__ Tracez la droite de régression ainsi que le nuage de points. Vérifiez que vous retrouvez bien les valeurs prédites pour les nouvelles observations données précédemment."
   ]
  },
  {
   "cell_type": "markdown",
   "id": "2c877979-98cd-4f1a-a146-e113cd9726d6",
   "metadata": {},
   "source": [
    "__Q6.__ Quantifiez la qualité du modèle en affichant les scores R2, MSE, RMSE et MAE. "
   ]
  },
  {
   "cell_type": "markdown",
   "id": "8ad73268-281a-49af-bbdc-6eca15685a27",
   "metadata": {},
   "source": [
    "# Exercice 2 : Le cas polynomial\n",
    "La régression polynomiale se gère de la même manière que la régression linéaire, mais avec une étape supplémentaire. Il est en effet nécessaire de transformer le tableau des entrées pour inclure des termes non linéaires.\n",
    "\n",
    "__Q1.__ Mettez en forme les observations $(x_i, y_i)$ suivantes afin qu’elles soient utilisables : \n",
    "\n",
    "        (5, 15), (15, 11), (25, 2), (35, 8), (45, 25), (55, 32)\n",
    "\n",
    "Affichez-les comme nuage de points sur une grille."
   ]
  },
  {
   "cell_type": "markdown",
   "id": "335d8c55-59c9-4b32-b054-d353800c68d3",
   "metadata": {},
   "source": [
    "__Q2.__ Créez le modèle de régression et calibrez-le avec les données précédentes."
   ]
  },
  {
   "cell_type": "markdown",
   "id": "77c67420-3332-44d6-b3c7-db32b455fe87",
   "metadata": {},
   "source": [
    "__Q3.__ Puisque nous disposons d’un modèle, effectuons quelques prédictions. Quelles sont les valeurs prédites pour $x_1 =\n",
    "20$ et $x_2 =40$?"
   ]
  },
  {
   "cell_type": "markdown",
   "id": "cecc564c-f79d-49a6-9f08-1abec5db1ab2",
   "metadata": {},
   "source": [
    "__Q4.__ Affichez les coefficients du polynôme, puis calculez les scores R2, MSE, RMSE et MAE afin d’évaluer la qualité du\n",
    "modèle."
   ]
  },
  {
   "cell_type": "markdown",
   "id": "d8c4a708-fbe5-47ea-a5cc-22e744e4b718",
   "metadata": {},
   "source": [
    "__Q5.__ Affichez les données initiales ainsi que le polynôme calculé."
   ]
  },
  {
   "cell_type": "markdown",
   "id": "8bba98a9-190e-4464-8cee-5f68f95790f3",
   "metadata": {},
   "source": [
    "__Q6.__ Malheureusement, vous n’avez que quelques points pour établir votre modèle.\n",
    " \n",
    "__Q6.1.__ Récupérez le fichier `data_mm05_additional.csv`. Incorporez ces nouvelles données et évaluez la précision de votre modèle avec ces nouvelles données (R2, MSE, RMSE, MAE). Affichez finalement tous les points et le polynôme de régression."
   ]
  },
  {
   "cell_type": "markdown",
   "id": "a0b998bb-eebd-4eec-8a14-406a87b7c2b9",
   "metadata": {},
   "source": [
    "__Q6.2.__ Trouvez un nouveau modèle si nécessaire qui obtiendrait de meilleurs résultats. "
   ]
  },
  {
   "cell_type": "markdown",
   "id": "00951e9d-18d3-41b9-8903-e27830a22da6",
   "metadata": {},
   "source": [
    "# Exercice 3 : Prédiction de loyers\n",
    "Vous êtes consulté par une agence immobilière pour prédire les loyers des différents arrondissements de Paris, afin de les aider à prendre des décisions d’achat d’appartements.\n",
    "\n",
    "__Q1.__ Récupérez les données du fichier `data_mm05_house.csv`. Affichez les 5 premières lignes du fichier pour comprendre sa structure ainsi que le nombre de lignes qu’il contient."
   ]
  },
  {
   "cell_type": "markdown",
   "id": "adb4b1bb-3d0c-4159-8baa-cf414c4fb331",
   "metadata": {},
   "source": [
    "__Q2.__ Affichez la description statistique des données, et représentez les données sous forme d’un nuage de points pour déterminer la présence éventuelle d’outliers."
   ]
  },
  {
   "cell_type": "markdown",
   "id": "6fa114e7-5b92-4e0c-93bf-fdb44423fe72",
   "metadata": {},
   "source": [
    "__Q3.__ Nettoyez les données et ignorez les outliers. Ré-affichez le nuage de points correspondant. Faites-en sorte de pouvoir distinguer les arrondissements."
   ]
  },
  {
   "cell_type": "markdown",
   "id": "5dd1a6de-6fea-483e-b1fb-f8ffc5884a44",
   "metadata": {},
   "source": [
    "__Q4.__ Représentez la répartition des prix par arrondissement. Est-elle plus ou moins semblable dans les différents arron- dissements ? Où les prix sont-ils le moins élevés ?"
   ]
  },
  {
   "cell_type": "markdown",
   "id": "612bba06-6010-42f7-9cb3-7ee2ccf86a01",
   "metadata": {},
   "source": [
    "__Q5.__ Vaut-il mieux faire un unique modèle de régression commun quelque soit l’arrondissement, ou un modèle différent par arrondissement ?\n",
    "\n",
    "__Q5.1.__ Afin d’évaluer correctement les modèles, divisez votre jeu de données. Conservez 30% des données pour les tests."
   ]
  },
  {
   "cell_type": "markdown",
   "id": "41ad1c92-903e-4048-8b7b-cd79313eab9e",
   "metadata": {},
   "source": [
    "__Q5.2.__ Créez le modèle de régression unique pour l’ensemble des arrondissements. Tracez le et évaluer ses scores. "
   ]
  },
  {
   "cell_type": "markdown",
   "id": "12765fd9-7879-4ca8-a7c1-9c378cc90f29",
   "metadata": {},
   "source": [
    "__Q5.3.__ Créez les modèles propres à chaque arrondissement. Tracez-les et évaluer leurs scores."
   ]
  },
  {
   "cell_type": "code",
   "execution_count": null,
   "id": "1dc566cf-53fc-4ffa-a5d1-552a8ba398fa",
   "metadata": {},
   "outputs": [],
   "source": []
  }
 ],
 "metadata": {
  "kernelspec": {
   "display_name": "Python 3",
   "language": "python",
   "name": "python3"
  },
  "language_info": {
   "codemirror_mode": {
    "name": "ipython",
    "version": 3
   },
   "file_extension": ".py",
   "mimetype": "text/x-python",
   "name": "python",
   "nbconvert_exporter": "python",
   "pygments_lexer": "ipython3",
   "version": "3.12.3"
  }
 },
 "nbformat": 4,
 "nbformat_minor": 5
}
