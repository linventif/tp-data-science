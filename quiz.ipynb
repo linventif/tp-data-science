{
 "cells": [
  {
   "cell_type": "code",
   "execution_count": 21,
   "metadata": {},
   "outputs": [
    {
     "ename": "SyntaxError",
     "evalue": "closing parenthesis ']' does not match opening parenthesis '(' (1255418757.py, line 11)",
     "output_type": "error",
     "traceback": [
      "\u001b[0;36m  Cell \u001b[0;32mIn [21], line 11\u001b[0;36m\u001b[0m\n\u001b[0;31m    print(data_mm_quiz01_notes.groupby(['nom']).unique()])\u001b[0m\n\u001b[0m                                                        ^\u001b[0m\n\u001b[0;31mSyntaxError\u001b[0m\u001b[0;31m:\u001b[0m closing parenthesis ']' does not match opening parenthesis '('\n"
     ]
    }
   ],
   "source": [
    "import pandas as pd\n",
    "\n",
    "data_mm_quiz01_commande = pd.read_csv('data_mm_quiz01_commande.csv')\n",
    "# print(data_mm_quiz01_commande.sum())\n",
    "\n",
    "data_mm_quiz01_produits = pd.read_csv('data_mm_quiz01_produits.csv')\n",
    "# print(data_mm_quiz01_produits.iloc[-10:, 0:1])\n",
    "\n",
    "data_mm_quiz01_notes = pd.read_csv('data_mm_quiz01_notes.csv')\n",
    "# print(data_mm_quiz01_notes[data_mm_quiz01_notes['name'].sum()])\n",
    "print(data_mm_quiz01_notes.groupby(['nom']).unique()])"
   ]
  }
 ],
 "metadata": {
  "kernelspec": {
   "display_name": "Python 3 (ipykernel)",
   "language": "python",
   "name": "python3"
  }
 },
 "nbformat": 4,
 "nbformat_minor": 2
}
