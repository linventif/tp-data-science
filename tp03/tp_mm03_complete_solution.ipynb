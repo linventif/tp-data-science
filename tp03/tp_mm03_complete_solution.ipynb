{
 "cells": [
  {
   "cell_type": "markdown",
   "id": "fa915c8c",
   "metadata": {},
   "source": [
    "# TP MM03\n",
    "### Data Science Exercises\n",
    "This notebook contains solutions for exercises described in the TP document, including data manipulation, visualization, and cleaning using Pandas and other libraries."
   ]
  },
  {
   "cell_type": "markdown",
   "id": "aa78a969",
   "metadata": {},
   "source": [
    "## Exercise 1: Loan Requests and Credits\n",
    "### Objective\n",
    "Analyze loan data to calculate financial metrics and visualize insights."
   ]
  },
  {
   "cell_type": "code",
   "execution_count": 1,
   "id": "de5cdefd",
   "metadata": {},
   "outputs": [
    {
     "data": {
      "text/html": [
       "<div>\n",
       "<style scoped>\n",
       "    .dataframe tbody tr th:only-of-type {\n",
       "        vertical-align: middle;\n",
       "    }\n",
       "\n",
       "    .dataframe tbody tr th {\n",
       "        vertical-align: top;\n",
       "    }\n",
       "\n",
       "    .dataframe thead th {\n",
       "        text-align: right;\n",
       "    }\n",
       "</style>\n",
       "<table border=\"1\" class=\"dataframe\">\n",
       "  <thead>\n",
       "    <tr style=\"text-align: right;\">\n",
       "      <th></th>\n",
       "      <th>identifiant</th>\n",
       "      <th>ville</th>\n",
       "      <th>CP</th>\n",
       "      <th>revenu</th>\n",
       "      <th>remboursement</th>\n",
       "      <th>duree</th>\n",
       "      <th>type</th>\n",
       "      <th>taux</th>\n",
       "    </tr>\n",
       "  </thead>\n",
       "  <tbody>\n",
       "    <tr>\n",
       "      <th>0</th>\n",
       "      <td>0</td>\n",
       "      <td>TOULOUSE</td>\n",
       "      <td>31100</td>\n",
       "      <td>3669.0</td>\n",
       "      <td>1130.05</td>\n",
       "      <td>240</td>\n",
       "      <td>immobilier</td>\n",
       "      <td>1.168</td>\n",
       "    </tr>\n",
       "    <tr>\n",
       "      <th>1</th>\n",
       "      <td>1</td>\n",
       "      <td>PARIS</td>\n",
       "      <td>75009</td>\n",
       "      <td>5310.0</td>\n",
       "      <td>240.00</td>\n",
       "      <td>64</td>\n",
       "      <td>automobile</td>\n",
       "      <td>3.701</td>\n",
       "    </tr>\n",
       "    <tr>\n",
       "      <th>2</th>\n",
       "      <td>1</td>\n",
       "      <td>PARIS</td>\n",
       "      <td>75009</td>\n",
       "      <td>5310.0</td>\n",
       "      <td>1247.85</td>\n",
       "      <td>300</td>\n",
       "      <td>immobilier</td>\n",
       "      <td>1.173</td>\n",
       "    </tr>\n",
       "    <tr>\n",
       "      <th>3</th>\n",
       "      <td>2</td>\n",
       "      <td>MARSEILLE</td>\n",
       "      <td>13010</td>\n",
       "      <td>1873.0</td>\n",
       "      <td>552.54</td>\n",
       "      <td>240</td>\n",
       "      <td>immobilier</td>\n",
       "      <td>0.972</td>\n",
       "    </tr>\n",
       "    <tr>\n",
       "      <th>4</th>\n",
       "      <td>3</td>\n",
       "      <td>MARSEILLE</td>\n",
       "      <td>13010</td>\n",
       "      <td>1684.0</td>\n",
       "      <td>586.03</td>\n",
       "      <td>180</td>\n",
       "      <td>immobilier</td>\n",
       "      <td>1.014</td>\n",
       "    </tr>\n",
       "  </tbody>\n",
       "</table>\n",
       "</div>"
      ],
      "text/plain": [
       "   identifiant      ville     CP  revenu  remboursement  duree        type  \\\n",
       "0            0   TOULOUSE  31100  3669.0        1130.05    240  immobilier   \n",
       "1            1      PARIS  75009  5310.0         240.00     64  automobile   \n",
       "2            1      PARIS  75009  5310.0        1247.85    300  immobilier   \n",
       "3            2  MARSEILLE  13010  1873.0         552.54    240  immobilier   \n",
       "4            3  MARSEILLE  13010  1684.0         586.03    180  immobilier   \n",
       "\n",
       "    taux  \n",
       "0  1.168  \n",
       "1  3.701  \n",
       "2  1.173  \n",
       "3  0.972  \n",
       "4  1.014  "
      ]
     },
     "execution_count": 1,
     "metadata": {},
     "output_type": "execute_result"
    }
   ],
   "source": [
    "import pandas as pd\n",
    "\n",
    "# Load the data\n",
    "data = pd.read_csv('data_mm03_loans.csv')\n",
    "data.head()"
   ]
  },
  {
   "cell_type": "markdown",
   "id": "57a3f261",
   "metadata": {},
   "source": [
    "### Q2: Data Enrichment"
   ]
  },
  {
   "cell_type": "code",
   "execution_count": 2,
   "id": "51ae0ea3",
   "metadata": {},
   "outputs": [
    {
     "ename": "KeyError",
     "evalue": "'mensualites'",
     "output_type": "error",
     "traceback": [
      "\u001b[0;31m---------------------------------------------------------------------------\u001b[0m",
      "\u001b[0;31mKeyError\u001b[0m                                  Traceback (most recent call last)",
      "File \u001b[0;32m/usr/lib/python3/dist-packages/pandas/core/indexes/base.py:3791\u001b[0m, in \u001b[0;36mIndex.get_loc\u001b[0;34m(self, key)\u001b[0m\n\u001b[1;32m   3790\u001b[0m \u001b[38;5;28;01mtry\u001b[39;00m:\n\u001b[0;32m-> 3791\u001b[0m     \u001b[38;5;28;01mreturn\u001b[39;00m \u001b[38;5;28;43mself\u001b[39;49m\u001b[38;5;241;43m.\u001b[39;49m\u001b[43m_engine\u001b[49m\u001b[38;5;241;43m.\u001b[39;49m\u001b[43mget_loc\u001b[49m\u001b[43m(\u001b[49m\u001b[43mcasted_key\u001b[49m\u001b[43m)\u001b[49m\n\u001b[1;32m   3792\u001b[0m \u001b[38;5;28;01mexcept\u001b[39;00m \u001b[38;5;167;01mKeyError\u001b[39;00m \u001b[38;5;28;01mas\u001b[39;00m err:\n",
      "File \u001b[0;32m/usr/lib/python3/dist-packages/pandas/_libs/index.pyx:152\u001b[0m, in \u001b[0;36mpandas._libs.index.IndexEngine.get_loc\u001b[0;34m()\u001b[0m\n",
      "File \u001b[0;32m/usr/lib/python3/dist-packages/pandas/_libs/index.pyx:181\u001b[0m, in \u001b[0;36mpandas._libs.index.IndexEngine.get_loc\u001b[0;34m()\u001b[0m\n",
      "File \u001b[0;32mpandas/_libs/hashtable_class_helper.pxi:7080\u001b[0m, in \u001b[0;36mpandas._libs.hashtable.PyObjectHashTable.get_item\u001b[0;34m()\u001b[0m\n",
      "File \u001b[0;32mpandas/_libs/hashtable_class_helper.pxi:7088\u001b[0m, in \u001b[0;36mpandas._libs.hashtable.PyObjectHashTable.get_item\u001b[0;34m()\u001b[0m\n",
      "\u001b[0;31mKeyError\u001b[0m: 'mensualites'",
      "\nThe above exception was the direct cause of the following exception:\n",
      "\u001b[0;31mKeyError\u001b[0m                                  Traceback (most recent call last)",
      "Cell \u001b[0;32mIn[2], line 2\u001b[0m\n\u001b[1;32m      1\u001b[0m \u001b[38;5;66;03m# Q2.1: Calculate 'taux_endettement'\u001b[39;00m\n\u001b[0;32m----> 2\u001b[0m data[\u001b[38;5;124m'\u001b[39m\u001b[38;5;124mtaux_endettement\u001b[39m\u001b[38;5;124m'\u001b[39m] \u001b[38;5;241m=\u001b[39m \u001b[38;5;28mround\u001b[39m((\u001b[43mdata\u001b[49m\u001b[43m[\u001b[49m\u001b[38;5;124;43m'\u001b[39;49m\u001b[38;5;124;43mmensualites\u001b[39;49m\u001b[38;5;124;43m'\u001b[39;49m\u001b[43m]\u001b[49m \u001b[38;5;241m/\u001b[39m data[\u001b[38;5;124m'\u001b[39m\u001b[38;5;124mrevenu\u001b[39m\u001b[38;5;124m'\u001b[39m]) \u001b[38;5;241m*\u001b[39m \u001b[38;5;241m100\u001b[39m, \u001b[38;5;241m2\u001b[39m)\n\u001b[1;32m      3\u001b[0m \u001b[38;5;66;03m# Q2.2: Rename 'taux' to 'taux_interet'\u001b[39;00m\n\u001b[1;32m      4\u001b[0m data\u001b[38;5;241m.\u001b[39mrename(columns\u001b[38;5;241m=\u001b[39m{\u001b[38;5;124m'\u001b[39m\u001b[38;5;124mtaux\u001b[39m\u001b[38;5;124m'\u001b[39m: \u001b[38;5;124m'\u001b[39m\u001b[38;5;124mtaux_interet\u001b[39m\u001b[38;5;124m'\u001b[39m}, inplace\u001b[38;5;241m=\u001b[39m\u001b[38;5;28;01mTrue\u001b[39;00m)\n",
      "File \u001b[0;32m/usr/lib/python3/dist-packages/pandas/core/frame.py:3893\u001b[0m, in \u001b[0;36mDataFrame.__getitem__\u001b[0;34m(self, key)\u001b[0m\n\u001b[1;32m   3891\u001b[0m \u001b[38;5;28;01mif\u001b[39;00m \u001b[38;5;28mself\u001b[39m\u001b[38;5;241m.\u001b[39mcolumns\u001b[38;5;241m.\u001b[39mnlevels \u001b[38;5;241m>\u001b[39m \u001b[38;5;241m1\u001b[39m:\n\u001b[1;32m   3892\u001b[0m     \u001b[38;5;28;01mreturn\u001b[39;00m \u001b[38;5;28mself\u001b[39m\u001b[38;5;241m.\u001b[39m_getitem_multilevel(key)\n\u001b[0;32m-> 3893\u001b[0m indexer \u001b[38;5;241m=\u001b[39m \u001b[38;5;28;43mself\u001b[39;49m\u001b[38;5;241;43m.\u001b[39;49m\u001b[43mcolumns\u001b[49m\u001b[38;5;241;43m.\u001b[39;49m\u001b[43mget_loc\u001b[49m\u001b[43m(\u001b[49m\u001b[43mkey\u001b[49m\u001b[43m)\u001b[49m\n\u001b[1;32m   3894\u001b[0m \u001b[38;5;28;01mif\u001b[39;00m is_integer(indexer):\n\u001b[1;32m   3895\u001b[0m     indexer \u001b[38;5;241m=\u001b[39m [indexer]\n",
      "File \u001b[0;32m/usr/lib/python3/dist-packages/pandas/core/indexes/base.py:3798\u001b[0m, in \u001b[0;36mIndex.get_loc\u001b[0;34m(self, key)\u001b[0m\n\u001b[1;32m   3793\u001b[0m     \u001b[38;5;28;01mif\u001b[39;00m \u001b[38;5;28misinstance\u001b[39m(casted_key, \u001b[38;5;28mslice\u001b[39m) \u001b[38;5;129;01mor\u001b[39;00m (\n\u001b[1;32m   3794\u001b[0m         \u001b[38;5;28misinstance\u001b[39m(casted_key, abc\u001b[38;5;241m.\u001b[39mIterable)\n\u001b[1;32m   3795\u001b[0m         \u001b[38;5;129;01mand\u001b[39;00m \u001b[38;5;28many\u001b[39m(\u001b[38;5;28misinstance\u001b[39m(x, \u001b[38;5;28mslice\u001b[39m) \u001b[38;5;28;01mfor\u001b[39;00m x \u001b[38;5;129;01min\u001b[39;00m casted_key)\n\u001b[1;32m   3796\u001b[0m     ):\n\u001b[1;32m   3797\u001b[0m         \u001b[38;5;28;01mraise\u001b[39;00m InvalidIndexError(key)\n\u001b[0;32m-> 3798\u001b[0m     \u001b[38;5;28;01mraise\u001b[39;00m \u001b[38;5;167;01mKeyError\u001b[39;00m(key) \u001b[38;5;28;01mfrom\u001b[39;00m \u001b[38;5;21;01merr\u001b[39;00m\n\u001b[1;32m   3799\u001b[0m \u001b[38;5;28;01mexcept\u001b[39;00m \u001b[38;5;167;01mTypeError\u001b[39;00m:\n\u001b[1;32m   3800\u001b[0m     \u001b[38;5;66;03m# If we have a listlike key, _check_indexing_error will raise\u001b[39;00m\n\u001b[1;32m   3801\u001b[0m     \u001b[38;5;66;03m#  InvalidIndexError. Otherwise we fall through and re-raise\u001b[39;00m\n\u001b[1;32m   3802\u001b[0m     \u001b[38;5;66;03m#  the TypeError.\u001b[39;00m\n\u001b[1;32m   3803\u001b[0m     \u001b[38;5;28mself\u001b[39m\u001b[38;5;241m.\u001b[39m_check_indexing_error(key)\n",
      "\u001b[0;31mKeyError\u001b[0m: 'mensualites'"
     ]
    }
   ],
   "source": [
    "# Q2.1: Calculate 'taux_endettement'\n",
    "data['taux_endettement'] = round((data['mensualites'] / data['revenu']) * 100, 2)\n",
    "# Q2.2: Rename 'taux' to 'taux_interet'\n",
    "data.rename(columns={'taux': 'taux_interet'}, inplace=True)\n",
    "# Q2.3: Calculate 'cout_total'\n",
    "data['cout_total'] = data['mensualites'] * data['duree']\n",
    "# Q2.4: Calculate 'benefices'\n",
    "data['benefices'] = (data['cout_total'] * data['taux_interet']) / (100 * 24)\n",
    "data.head()"
   ]
  },
  {
   "cell_type": "markdown",
   "id": "19129998",
   "metadata": {},
   "source": [
    "### Q3: Preliminary Visualizations"
   ]
  },
  {
   "cell_type": "code",
   "execution_count": null,
   "id": "06fbbc03",
   "metadata": {},
   "outputs": [],
   "source": [
    "import matplotlib.pyplot as plt\n",
    "\n",
    "# Q3.1: Scatter plot for Paris and Toulouse\n",
    "paris_toulouse = data[data['ville'].isin(['Paris', 'Toulouse'])]\n",
    "for city in paris_toulouse['ville'].unique():\n",
    "    subset = paris_toulouse[paris_toulouse['ville'] == city]\n",
    "    plt.scatter(subset['revenu'], subset['taux_interet'], label=city)\n",
    "\n",
    "plt.legend()\n",
    "plt.title('Revenu vs Taux d’Intérêt (Paris & Toulouse)')\n",
    "plt.xlabel('Revenu')\n",
    "plt.ylabel('Taux d’Intérêt')\n",
    "plt.show()"
   ]
  },
  {
   "cell_type": "markdown",
   "id": "d9465d50",
   "metadata": {},
   "source": [
    "### Q4: Filtering and Manipulations"
   ]
  },
  {
   "cell_type": "code",
   "execution_count": null,
   "id": "5a908a45",
   "metadata": {},
   "outputs": [],
   "source": [
    "# Q4.1: Loans of type 'automobile'\n",
    "auto_loans = data[data['type'] == 'automobile']\n",
    "# Q4.2: IDs of clients with 'automobile' loans\n",
    "auto_loan_ids = auto_loans['client_id']\n",
    "# Q4.3: IDs and income of clients with 'automobile' loans\n",
    "auto_loan_info = auto_loans[['client_id', 'revenu']]\n",
    "auto_loan_info.head()"
   ]
  },
  {
   "cell_type": "markdown",
   "id": "16764fac",
   "metadata": {},
   "source": [
    "### Q5: Aggregations"
   ]
  },
  {
   "cell_type": "code",
   "execution_count": null,
   "id": "743ebbbf",
   "metadata": {},
   "outputs": [],
   "source": [
    "# Q5.1: Count and average total cost of 'automobile' loans\n",
    "auto_loan_count = auto_loans.shape[0]\n",
    "auto_loan_avg_cost = auto_loans['cout_total'].mean()\n",
    "auto_loan_count, auto_loan_avg_cost"
   ]
  },
  {
   "cell_type": "markdown",
   "id": "b2f86242",
   "metadata": {},
   "source": [
    "## Exercise 2: Olympic Games Analysis\n",
    "### Objective\n",
    "Analyze historical Olympic data to derive insights and visualizations."
   ]
  },
  {
   "cell_type": "markdown",
   "id": "569dcaed",
   "metadata": {},
   "source": [
    "### Q1: Data Import and Null Values"
   ]
  },
  {
   "cell_type": "code",
   "execution_count": null,
   "id": "7ecf058e",
   "metadata": {},
   "outputs": [],
   "source": [
    "olympic_data = pd.read_csv('data_mm03_Olympics.csv')\n",
    "\n",
    "# Count null values per column and total\n",
    "null_counts = olympic_data.isnull().sum()\n",
    "total_nulls = null_counts.sum()\n",
    "null_counts, total_nulls"
   ]
  },
  {
   "cell_type": "markdown",
   "id": "852cd541",
   "metadata": {},
   "source": [
    "### Q2: Data Exploration and Filtering"
   ]
  },
  {
   "cell_type": "code",
   "execution_count": null,
   "id": "51a3178a",
   "metadata": {},
   "outputs": [],
   "source": [
    "# Q2.1: Count unique sports and the least represented ones\n",
    "unique_sports = olympic_data['Sport'].value_counts()\n",
    "least_represented = unique_sports.tail(20)\n",
    "least_represented"
   ]
  },
  {
   "cell_type": "code",
   "execution_count": null,
   "id": "c855eb11",
   "metadata": {},
   "outputs": [],
   "source": [
    "# Q2.2: Countries with <10 appearances and the most represented\n",
    "country_counts = olympic_data['Team'].value_counts()\n",
    "rare_countries = country_counts[country_counts < 10]\n",
    "most_represented = country_counts.head(3)\n",
    "rare_countries, most_represented"
   ]
  },
  {
   "cell_type": "markdown",
   "id": "c124dce5",
   "metadata": {},
   "source": [
    "### Q3: Advanced Queries"
   ]
  },
  {
   "cell_type": "code",
   "execution_count": null,
   "id": "6abc375b",
   "metadata": {},
   "outputs": [],
   "source": [
    "# Q3.1: Oldest athlete and oldest medalist\n",
    "oldest_athlete = olympic_data.loc[olympic_data['Age'].idxmax()]\n",
    "medalist_data = olympic_data[olympic_data['Medal'].notnull()]\n",
    "oldest_medalist = medalist_data.loc[medalist_data['Age'].idxmax()]\n",
    "oldest_athlete, oldest_medalist"
   ]
  },
  {
   "cell_type": "markdown",
   "id": "fd734458",
   "metadata": {},
   "source": [
    "### Q4: Evolution of Medals Over Time"
   ]
  },
  {
   "cell_type": "code",
   "execution_count": null,
   "id": "650b19ed",
   "metadata": {},
   "outputs": [],
   "source": [
    "medal_counts = olympic_data.groupby(['Year', 'Season'])['Medal'].count().unstack()\n",
    "medal_counts.plot(kind='line', title='Medals Over Time (Summer vs Winter)', xlabel='Year', ylabel='Count')\n",
    "plt.show()"
   ]
  },
  {
   "cell_type": "markdown",
   "id": "9e2277c7",
   "metadata": {},
   "source": [
    "### Q5: Distribution Analysis"
   ]
  },
  {
   "cell_type": "code",
   "execution_count": null,
   "id": "2497031b",
   "metadata": {},
   "outputs": [],
   "source": [
    "# Q5.1: Boxplots for age, height, and weight\n",
    "olympic_data[['Age', 'Height', 'Weight']].plot.box(title='Distributions of Age, Height, and Weight')\n",
    "plt.show()"
   ]
  },
  {
   "cell_type": "code",
   "execution_count": null,
   "id": "fafbfc88",
   "metadata": {},
   "outputs": [],
   "source": [
    "boxplot_data = olympic_data[['Age', 'Height', 'Weight']]\n",
    "boxplot_data.plot.box(title='Distributions of Age, Height, and Weight')\n",
    "plt.show()\n",
    "\n",
    "# Q5.2-Q5.3: Characterize distributions\n",
    "distribution_stats = boxplot_data.describe().T\n",
    "distribution_stats['variance'] = boxplot_data.var()\n",
    "distribution_stats"
   ]
  },
  {
   "cell_type": "code",
   "execution_count": null,
   "id": "69a483f9",
   "metadata": {},
   "outputs": [],
   "source": [
    "boxplot_data.plot(kind='density', subplots=True, layout=(1, 3), sharex=False, title='Empirical Distributions')\n",
    "plt.show()"
   ]
  },
  {
   "cell_type": "code",
   "execution_count": null,
   "id": "659769c5",
   "metadata": {},
   "outputs": [],
   "source": [
    "correlation_matrix = boxplot_data.corr()\n",
    "print(correlation_matrix)"
   ]
  }
 ],
 "metadata": {
  "kernelspec": {
   "display_name": "Python 3",
   "language": "python",
   "name": "python3"
  },
  "language_info": {
   "codemirror_mode": {
    "name": "ipython",
    "version": 3
   },
   "file_extension": ".py",
   "mimetype": "text/x-python",
   "name": "python",
   "nbconvert_exporter": "python",
   "pygments_lexer": "ipython3",
   "version": "3.12.3"
  }
 },
 "nbformat": 4,
 "nbformat_minor": 5
}
