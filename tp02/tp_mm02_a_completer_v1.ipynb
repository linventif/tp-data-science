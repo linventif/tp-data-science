{
 "cells": [
  {
   "cell_type": "markdown",
   "id": "5dccf49f-9b39-4473-ad42-881c2679e602",
   "metadata": {},
   "source": [
    "<p style=\"text-align:center;font-size:24px;color:blue;\">\n",
    "R5.A.12 & R5.B.10 : Modélisation Mathématique\n",
    "<br> <em>Antoine Nongaillard</em> <br>\n",
    "semaine 2 : <code>pandas</code> — 23 septembre 2024\n",
    "</p>"
   ]
  },
  {
   "cell_type": "markdown",
   "id": "20b68858-c8ac-4f8f-930a-d5fa147083b0",
   "metadata": {
    "jp-MarkdownHeadingCollapsed": true
   },
   "source": [
    "# Objectifs :\n",
    "\n",
    "* librairie `pandas` : manipulation et agrégation — visualisation des données\n",
    "* nettoyage de données"
   ]
  },
  {
   "cell_type": "markdown",
   "id": "f2305ed9-770d-444c-8987-36becb757cf1",
   "metadata": {},
   "source": [
    "#  Exercice 1 : Premier contact avec la librairie pandas\n",
    "\n",
    "> En préambule, nous rappelons que l’**aide sur une fonction/méthode** donnée peut s’obtenir rapidement au sein d’une cellule de code.\n",
    "> \n",
    "> Par exemple, il suffit de saisir `pandas.read_csv?` pour obtenir directement l’aide sur la fonction `read_csv(...)`."
   ]
  },
  {
   "cell_type": "markdown",
   "id": "99cd7649-a1c6-49ec-93f4-b6dcb04ca91e",
   "metadata": {},
   "source": [
    "## E1Q1. Indexation par défaut\n",
    "\n",
    "Intéressons-nous d’abord à la question de l’indexation et de l’accès aux données par défaut.\n",
    "\n",
    "* Importez la colonne `age` du fichier `data_mm02_clients_series.csv` grâce à l’option `usecols` de la méthode `read_csv(...)`.\n",
    "* Affichez les 5 premières lignes, via la méthode `head()`.\n",
    "* Affichez les 5 dernières lignes, via la méthode `tail()`.\n",
    "* Affichez la taille des données, via l’attribut `shape`.\n",
    "* Affichez les données d’indice 2 et d’étiquette 2 via les méthodes `iloc` et `loc`. Quelle différence cela fait-il ? Pourquoi ?\n"
   ]
  },
  {
   "cell_type": "code",
   "execution_count": 16,
   "id": "5f3a9609-c40b-4c2c-841d-68f647b6c63c",
   "metadata": {},
   "outputs": [
    {
     "name": "stdout",
     "output_type": "stream",
     "text": [
      "    age\n",
      "0  54.0\n",
      "1  23.0\n",
      "2  30.0\n",
      "3  42.0\n",
      "4  47.0\n",
      "     age\n",
      "45  34.0\n",
      "46  37.0\n",
      "47  35.0\n",
      "48  49.0\n",
      "49  54.0\n",
      "(50, 1)\n",
      "age    30.0\n",
      "Name: 2, dtype: float64\n",
      "age    30.0\n",
      "Name: 2, dtype: float64\n"
     ]
    }
   ],
   "source": [
    "import pandas as pd\n",
    "\n",
    "# Import the 'age' column from the CSV file\n",
    "df_age = pd.read_csv('data_mm02_clients_series.csv', usecols=['age'])\n",
    "\n",
    "# Display the first 5 rows\n",
    "print(df_age.head())\n",
    "\n",
    "# Display the last 5 rows\n",
    "print(df_age.tail())\n",
    "\n",
    "# Display the shape of the data\n",
    "print(df_age.shape)\n",
    "\n",
    "# Display the data at index 2 using iloc and loc\n",
    "print(df_age.iloc[2])\n",
    "print(df_age.loc[2])"
   ]
  },
  {
   "cell_type": "markdown",
   "id": "d315624b-6950-4d0a-806a-0e00c87316f2",
   "metadata": {},
   "source": [
    "## E1Q2. Indexons différemment les données.\n",
    "\n",
    "* Importez les colonnes `age` et `nom` du fichier `data_mm02_clients_series.csv` en utilisant cette fois le nom\n",
    "comme index, grâce à l’option `index_col` de la fonction `read_csv(...)`.\n",
    "* Affichez Les 5 premières lignes et constatez la différence avec l’indexation par défaut. \n",
    "* Affichez également la taille des données. Qu’est-ce qui change ?\n",
    "* Affichez l’âge d’indice 2 et l’âge de `Beaufort Lesage` via les méthodes `iloc` et `loc`."
   ]
  },
  {
   "cell_type": "code",
   "execution_count": 17,
   "id": "c1aff989-a661-4c86-bd9a-035371ccf79d",
   "metadata": {},
   "outputs": [
    {
     "name": "stdout",
     "output_type": "stream",
     "text": [
      "                   age\n",
      "nom                   \n",
      "Laurent Dagenais  54.0\n",
      "Guy Marois        23.0\n",
      "Beaufort Lesage   30.0\n",
      "Russell Durand    42.0\n",
      "Alexis Riel       47.0\n",
      "(50, 1)\n",
      "age    30.0\n",
      "Name: Beaufort Lesage, dtype: float64\n",
      "age    30.0\n",
      "Name: Beaufort Lesage, dtype: float64\n"
     ]
    }
   ],
   "source": [
    "# Import the 'age' and 'nom' columns from the CSV file with 'nom' as the index\n",
    "df_age_nom = pd.read_csv('data_mm02_clients_series.csv', usecols=['age', 'nom'], index_col='nom')\n",
    "\n",
    "# Display the first 5 rows\n",
    "print(df_age_nom.head())\n",
    "\n",
    "# Display the shape of the data\n",
    "print(df_age_nom.shape)\n",
    "\n",
    "# Display the age at index 2 using iloc and the age of 'Beaufort Lesage' using loc\n",
    "print(df_age_nom.iloc[2])\n",
    "print(df_age_nom.loc['Beaufort Lesage'])"
   ]
  },
  {
   "cell_type": "markdown",
   "id": "de9ffbe1-f1fe-403a-90f4-2bf658618d8e",
   "metadata": {},
   "source": [
    "## E1Q3. Filtrons notre dataframe\n",
    "\n",
    "Pratiquons maintenant quelques restrictions afin de filtrer notre dataframe !\n",
    "\n",
    "* Affichez les informations des personnes ayant exactement 41 ans (en combinant l’indexation booléenne et la\n",
    "méthode `.loc(...)`).\n",
    "* Affichez uniquement le nom (autrement dit l’index) de la dernière personne sur cette liste.\n",
    "* Affichez uniquement les informations des personnes ayant entre 40 et 50 ans.\n",
    "* Exportez la liste de toutes les quadragénaires dans un fichier CSV nommé `result_mm02_quadra.csv` dans lequel le séparateur est ’|’ (option `sep`) en utilisant la méthode `to_csv(...)`."
   ]
  },
  {
   "cell_type": "code",
   "execution_count": 18,
   "metadata": {},
   "outputs": [
    {
     "name": "stdout",
     "output_type": "stream",
     "text": [
      "                 age\n",
      "nom                 \n",
      "Leon Lapresse   41.0\n",
      "Aceline Hughes  41.0\n",
      "Franck Dumont   41.0\n",
      "Franck Dumont\n",
      "                     age\n",
      "nom                     \n",
      "Russell Durand      42.0\n",
      "Alexis Riel         47.0\n",
      "Leon Lapresse       41.0\n",
      "Normand Arsenault   44.0\n",
      "Aceline Hughes      41.0\n",
      "Prunella Josseaume  40.0\n",
      "Yseult Charest      43.0\n",
      "Dorothee Aupry      47.0\n",
      "Franck Dumont       41.0\n",
      "Arber Garcia        40.0\n",
      "Arnaud Dubois       50.0\n",
      "Pryor Beauchamp     45.0\n",
      "Daisi Boileau       43.0\n",
      "Somer Paquette      42.0\n",
      "Morgana Bellemare   44.0\n",
      "Merci Morin         50.0\n",
      "Sumner Rocheleau    49.0\n"
     ]
    }
   ],
   "source": [
    "# Filter for people exactly 41 years old\n",
    "df_41_years_old = df_age_nom[df_age_nom['age'] == 41]\n",
    "print(df_41_years_old)\n",
    "\n",
    "# Display the name (index) of the last person in this list\n",
    "print(df_41_years_old.index[-1])\n",
    "\n",
    "# Filter for people between 40 and 50 years old\n",
    "df_40_to_50_years_old = df_age_nom[(df_age_nom['age'] >= 40) & (df_age_nom['age'] <= 50)]\n",
    "print(df_40_to_50_years_old)\n",
    "\n",
    "# Export the list of all people in their forties to a CSV file\n",
    "df_40_to_50_years_old.to_csv('result_mm02_quadra.csv', sep='|')"
   ]
  },
  {
   "cell_type": "markdown",
   "id": "d86db80d-c446-4a74-bb07-64e7733ed1f7",
   "metadata": {},
   "source": [
    "## E1Q4. Associons plusieurs fichiers\n",
    "\n",
    "Voyons maintenant comment associer plusieurs fichiers.\n",
    "\n",
    "* Importez dans un dataframe `clients1` les données du fichier CSV  `data_mm02_clients_part1.csv`."
   ]
  },
  {
   "cell_type": "code",
   "execution_count": 19,
   "id": "2e392dd5-4a46-481a-a610-5529c0200230",
   "metadata": {},
   "outputs": [
    {
     "name": "stdout",
     "output_type": "stream",
     "text": [
      "   identifiant                      email               nom genre\n",
      "0            0  LaurentDagenais@rhyta.com  Laurent Dagenais     M\n",
      "1            1      GuyMarois@fleckens.hu        Guy Marois     M\n",
      "2            2  BeaufortLesage@einrot.com   Beaufort Lesage     M\n",
      "3            3  RussellDurand@armyspy.com    Russell Durand     M\n",
      "4            4       AlexisRiel@rhyta.com       Alexis Riel     M\n"
     ]
    }
   ],
   "source": [
    "# Import the data from the CSV file into a dataframe\n",
    "clients1 = pd.read_csv('data_mm02_clients_part1.csv')\n",
    "\n",
    "# Display the first 5 rows of the dataframe\n",
    "print(clients1.head())"
   ]
  },
  {
   "cell_type": "markdown",
   "id": "4a3dabd0-7f1a-4fb7-8c6a-ee0f55b2df93",
   "metadata": {},
   "source": [
    "> *Malheureusement, les données initiales ont été morcelées en deux fichiers, sous des formats différents en plus !*\n",
    "\n",
    "* Importez dans un autre dataframe `clients2` les données du fichier JSON `data_mm02_clients_part2.json`, via la fonction `read_json(...)`."
   ]
  },
  {
   "cell_type": "code",
   "execution_count": 20,
   "id": "44d2c695-30b1-41c3-9e7c-ed31a0efa382",
   "metadata": {},
   "outputs": [
    {
     "name": "stdout",
     "output_type": "stream",
     "text": [
      "     identifiant                          email                 nom genre\n",
      "150          150         RochMireault@gustr.com       Roch Mireault     M\n",
      "151          151       NathalieCormier@cuvox.de    Nathalie Cormier     F\n",
      "152          152      VallisMainville@gustr.com    Vallis Mainville     M\n",
      "153          153  DanielleNeufville@teleworm.us  Danielle Neufville     F\n",
      "154          154      AllyrianeRacine@gustr.com    Allyriane Racine     F\n"
     ]
    }
   ],
   "source": [
    "# Import the data from the JSON file into a dataframe\n",
    "clients2 = pd.read_json('data_mm02_clients_part2.json')\n",
    "\n",
    "# Display the first 5 rows of the dataframe\n",
    "print(clients2.head())"
   ]
  },
  {
   "cell_type": "markdown",
   "id": "cac0cec9-0da0-4204-9959-6db2107b388f",
   "metadata": {},
   "source": [
    "* Fusionnez les deux dataframes afin de n’en obtenir qu’un seul, contenant toutes les données. Pour les mettre bout à bout, la fonction `concat(...)` est nécessaire."
   ]
  },
  {
   "cell_type": "code",
   "execution_count": 21,
   "id": "524dcf0b-cb6d-4e8c-a11a-be482ecd8f01",
   "metadata": {},
   "outputs": [
    {
     "name": "stdout",
     "output_type": "stream",
     "text": [
      "   identifiant                      email               nom genre\n",
      "0            0  LaurentDagenais@rhyta.com  Laurent Dagenais     M\n",
      "1            1      GuyMarois@fleckens.hu        Guy Marois     M\n",
      "2            2  BeaufortLesage@einrot.com   Beaufort Lesage     M\n",
      "3            3  RussellDurand@armyspy.com    Russell Durand     M\n",
      "4            4       AlexisRiel@rhyta.com       Alexis Riel     M\n",
      "(228, 4)\n"
     ]
    }
   ],
   "source": [
    "# Merge the two dataframes\n",
    "clients_combined = pd.concat([clients1, clients2], ignore_index=True)\n",
    "\n",
    "# Display the first 5 rows of the combined dataframe\n",
    "print(clients_combined.head())\n",
    "\n",
    "# Display the shape of the combined dataframe\n",
    "print(clients_combined.shape)"
   ]
  },
  {
   "cell_type": "markdown",
   "id": "25bd2f70-e325-4b7e-9bd8-b7c32c4d8c32",
   "metadata": {},
   "source": [
    "* Récupérez et importez le fichier complémentaire contenant les identifiants et les ages de certains clients : le fichier \n",
    "`data_mm02_clients_age.csv`.\n",
    "* Par **jointure** entre vos deux dataframes, reconstituez un ensemble de données complets (via la fonction `merge(...)` et les options `on` et `how`), sans perdre de clients au passage : on souhaite conserver les clients pour lesquels nous n’avons pas l’âge mais oublier les âges pour lesquels aucun client ne correspond. \n",
    "> *Vérifiez le nombre de lignes obtenues.*"
   ]
  },
  {
   "cell_type": "code",
   "execution_count": 22,
   "id": "61a635d7-9f88-46c8-bb07-d2451a9acabd",
   "metadata": {},
   "outputs": [
    {
     "name": "stdout",
     "output_type": "stream",
     "text": [
      "   identifiant                      email               nom genre   age\n",
      "0            0  LaurentDagenais@rhyta.com  Laurent Dagenais     M  54.0\n",
      "1            1      GuyMarois@fleckens.hu        Guy Marois     M  23.0\n",
      "2            2  BeaufortLesage@einrot.com   Beaufort Lesage     M  30.0\n",
      "3            3  RussellDurand@armyspy.com    Russell Durand     M  42.0\n",
      "4            4       AlexisRiel@rhyta.com       Alexis Riel     M  47.0\n",
      "(228, 5)\n"
     ]
    }
   ],
   "source": [
    "# Import the complementary file containing client IDs and ages\n",
    "clients_age = pd.read_csv('data_mm02_clients_age.csv')\n",
    "\n",
    "# Merge the combined clients dataframe with the clients_age dataframe\n",
    "clients_complete = pd.merge(clients_combined, clients_age, on='identifiant', how='left')\n",
    "\n",
    "# Display the first 5 rows of the complete dataframe\n",
    "print(clients_complete.head())\n",
    "\n",
    "# Display the shape of the complete dataframe\n",
    "print(clients_complete.shape)"
   ]
  },
  {
   "cell_type": "markdown",
   "id": "7a7fbf68-136b-4a97-a498-7ad37695733d",
   "metadata": {},
   "source": [
    "## E1Q5. Encore quelques restrictions\n",
    "\n",
    "\n",
    "* Affichez les informations liées aux clients dont l’âge reste inconnu, via la méthode `isnull()`. \n",
    "* Affichez tous les clients ayant un numéro supérieur à 222.\n",
    "\n",
    "> Dès qu’on souhaite analyser ou effectuer un traitement sur une colonne de type ’chaîne de caractères’, il faut appliquer la méthode `….str.<la-méthode>()`.\n",
    "* De cette manière, affichez tous les clients ayant un nom commençant par la lettre `B` via la méthode `startswith(...)`.\n",
    "\n",
    "  \n",
    "* Ajoutez une colonne `longueur_nom` à votre dataframe contenant le nombre de caractères du champ `nom`, via la méthode `len()`.\n",
    "\n",
    "> Le fait de trouver à la fois le nom et le prénom à l’intérieur du même champ ne nous arrange pas.\n",
    "\n",
    "* Faites les modifications nécessaires afin d’obtenir une colonne `nom` et une colonne `prénom` dédiées.\n",
    "\n",
    "> La méthode `split(...)` avec son option booléenne `expand` mérite votre attention."
   ]
  },
  {
   "cell_type": "code",
   "execution_count": 23,
   "id": "a8bb29e6-436a-47ab-b986-cb780f95d7bb",
   "metadata": {},
   "outputs": [
    {
     "name": "stdout",
     "output_type": "stream",
     "text": [
      "     identifiant                       email                nom genre  age\n",
      "30            30       MarieBriard@gustr.com       Marie Briard     F  NaN\n",
      "97            97    LaureBondy@superrito.com        Laure Bondy     F  NaN\n",
      "125          125      SibylaLizotte@cuvox.de     Sibyla Lizotte     F  NaN\n",
      "143          143  ToussaintBrodeur@rhyta.com  Toussaint Brodeur     M  NaN\n",
      "197          197     HuonDeLaRonde@rhyta.com   Huon De La Ronde     M  NaN\n",
      "     identifiant                            email                nom genre  \\\n",
      "223          223  ClaudeDandonneau@jourrapide.com  Claude Dandonneau     F   \n",
      "224          224    ApollineMichaud@superrito.com   Apolline Michaud     F   \n",
      "225          225       PascalineBeaudry@rhyta.com  Pascaline Beaudry     F   \n",
      "226          226     FleurCaouette@jourrapide.com     Fleur Caouette     F   \n",
      "227          227      FrancisMasse@jourrapide.com      Francis Masse     M   \n",
      "\n",
      "      age  \n",
      "223  30.0  \n",
      "224  27.0  \n",
      "225  29.0  \n",
      "226  26.0  \n",
      "227  27.0  \n",
      "     identifiant                          email                   nom genre  \\\n",
      "2              2      BeaufortLesage@einrot.com       Beaufort Lesage     M   \n",
      "10            10   ByronLefebvre@jourrapide.com        Byron Lefebvre     M   \n",
      "25            25      BlondelleRochon@gustr.com      Blondelle Rochon     F   \n",
      "28            28    BradamateMichel@armyspy.com      Bradamate Michel     F   \n",
      "52            52     BelisardaGuedry@dayrep.com      Belisarda Guedry     F   \n",
      "96            96     BenjaminLabrie@fleckens.hu       Benjamin Labrie     M   \n",
      "116          116       BeldaLauzier@armyspy.com         Belda Lauzier     F   \n",
      "136          136          BriceFaure@einrot.com           Brice Faure     M   \n",
      "170          170  BlondelleAilleboust@gustr.com  Blondelle Ailleboust     F   \n",
      "173          173       BriceGrondin@fleckens.hu         Brice Grondin     M   \n",
      "182          182       BenoitGauvin@teleworm.us         Benoit Gauvin     M   \n",
      "\n",
      "      age  \n",
      "2    30.0  \n",
      "10   34.0  \n",
      "25   26.0  \n",
      "28   23.0  \n",
      "52   26.0  \n",
      "96   25.0  \n",
      "116  47.0  \n",
      "136  54.0  \n",
      "170  43.0  \n",
      "173  27.0  \n",
      "182  43.0  \n",
      "   identifiant                      email               nom genre   age  \\\n",
      "0            0  LaurentDagenais@rhyta.com  Laurent Dagenais     M  54.0   \n",
      "1            1      GuyMarois@fleckens.hu        Guy Marois     M  23.0   \n",
      "2            2  BeaufortLesage@einrot.com   Beaufort Lesage     M  30.0   \n",
      "3            3  RussellDurand@armyspy.com    Russell Durand     M  42.0   \n",
      "4            4       AlexisRiel@rhyta.com       Alexis Riel     M  47.0   \n",
      "\n",
      "   longueur_nom  \n",
      "0            16  \n",
      "1            10  \n",
      "2            15  \n",
      "3            14  \n",
      "4            11  \n",
      "   identifiant                      email       nom genre   age  longueur_nom  \\\n",
      "0            0  LaurentDagenais@rhyta.com  Dagenais     M  54.0            16   \n",
      "1            1      GuyMarois@fleckens.hu    Marois     M  23.0            10   \n",
      "2            2  BeaufortLesage@einrot.com    Lesage     M  30.0            15   \n",
      "3            3  RussellDurand@armyspy.com    Durand     M  42.0            14   \n",
      "4            4       AlexisRiel@rhyta.com      Riel     M  47.0            11   \n",
      "\n",
      "     prenom  \n",
      "0   Laurent  \n",
      "1       Guy  \n",
      "2  Beaufort  \n",
      "3   Russell  \n",
      "4    Alexis  \n"
     ]
    },
    {
     "name": "stderr",
     "output_type": "stream",
     "text": [
      "/tmp/ipykernel_9592/3131210683.py:18: FutureWarning: In a future version of pandas all arguments of StringMethods.split except for the argument 'pat' will be keyword-only.\n",
      "  clients_complete[['prenom', 'nom']] = clients_complete['nom'].str.split(' ', 1, expand=True)\n"
     ]
    }
   ],
   "source": [
    "# Display information related to clients whose age is unknown\n",
    "clients_age_unknown = clients_complete[clients_complete['age'].isnull()]\n",
    "print(clients_age_unknown)\n",
    "\n",
    "# Display all clients with an identifier greater than 222\n",
    "clients_id_above_222 = clients_complete[clients_complete['identifiant'] > 222]\n",
    "print(clients_id_above_222)\n",
    "\n",
    "# Display all clients whose name starts with the letter 'B'\n",
    "clients_name_starts_with_B = clients_complete[clients_complete['nom'].str.startswith('B')]\n",
    "print(clients_name_starts_with_B)\n",
    "\n",
    "# Add a column 'longueur_nom' containing the length of the 'nom' field\n",
    "clients_complete['longueur_nom'] = clients_complete['nom'].str.len()\n",
    "print(clients_complete.head())\n",
    "\n",
    "# Split the 'nom' column into 'prenom' and 'nom' columns\n",
    "clients_complete[['prenom', 'nom']] = clients_complete['nom'].str.split(' ', 1, expand=True)\n",
    "print(clients_complete.head())"
   ]
  },
  {
   "cell_type": "markdown",
   "id": "543f95a5-5438-4ef3-9a11-ea581408f13f",
   "metadata": {},
   "source": [
    "## E1Q6. Un peu de visualisation\n",
    "\n",
    "* Tracez un diagramme circulaire (`pie(...)`) représentant le nombre de clients par tranche d’âge. Pour ce faire :\n",
    "    * Créez les catégories dans une variable `bins`, via la fonction `arange(...)` ; \n",
    "    * Associez chaque âge à sa catégorie grâce à la fonction `cut(...)` ; \n",
    "    * Comptez le nombre de données dans chaque catégorie via la méthode `value_counts()`; \n",
    "    * Filtrez pour éliminer que les catégories non nécessaires ; \n",
    "    * Tracez le diagramme circulaire via la fonction `pie(...)`."
   ]
  },
  {
   "cell_type": "code",
   "execution_count": 24,
   "id": "78e2d2ee-cb9b-43dd-87f6-33edccde4508",
   "metadata": {},
   "outputs": [
    {
     "data": {
      "image/png": "[encoded data removed]",
      "text/plain": [
       "<Figure size 800x800 with 1 Axes>"
      ]
     },
     "metadata": {},
     "output_type": "display_data"
    }
   ],
   "source": [
    "import numpy as np\n",
    "import pandas as pd\n",
    "\n",
    "import matplotlib.pyplot as plt\n",
    "\n",
    "# Create age bins\n",
    "bins = np.arange(0, 101, 10)\n",
    "\n",
    "# Assign each age to a bin\n",
    "clients_complete['age_group'] = pd.cut(clients_complete['age'], bins)\n",
    "\n",
    "# Count the number of clients in each age group\n",
    "age_group_counts = clients_complete['age_group'].value_counts().sort_index()\n",
    "\n",
    "# Filter out unnecessary categories\n",
    "age_group_counts = age_group_counts[age_group_counts > 0]\n",
    "\n",
    "# Plot the pie chart\n",
    "age_group_counts.plot.pie(autopct='%1.1f%%', figsize=(8, 8))\n",
    "plt.title('Number of Clients by Age Group')\n",
    "plt.ylabel('')\n",
    "plt.show()"
   ]
  },
  {
   "cell_type": "markdown",
   "id": "192ba3c5-2a2c-43e7-8976-a229ae80e435",
   "metadata": {},
   "source": [
    "> *Cette représentation n’apporte pas suffisamment d’information.* \n",
    "* Réalisez un histogramme avec un découpage des tranches d’âge deux fois plus fin (fonction `hist(...)`, option `bins`)."
   ]
  },
  {
   "cell_type": "code",
   "execution_count": 25,
   "id": "37456b37-c7e3-40cd-b941-c04eaf3928cb",
   "metadata": {},
   "outputs": [
    {
     "data": {
      "image/png": "[encoded data removed]",
      "text/plain": [
       "<Figure size 1000x600 with 1 Axes>"
      ]
     },
     "metadata": {},
     "output_type": "display_data"
    }
   ],
   "source": [
    "# Create finer age bins\n",
    "finer_bins = np.arange(0, 101, 5)\n",
    "\n",
    "# Plot the histogram\n",
    "clients_complete['age'].hist(bins=finer_bins, edgecolor='black', figsize=(10, 6))\n",
    "plt.title('Histogram of Clients by Age')\n",
    "plt.xlabel('Age')\n",
    "plt.ylabel('Number of Clients')\n",
    "plt.show()"
   ]
  },
  {
   "cell_type": "markdown",
   "id": "670d521e-4bcb-48b7-9f24-b15b74c70c6b",
   "metadata": {},
   "source": [
    "# Exercice 2 : Un premier nettoyage de données\n",
    "\n",
    "## E2Q1. Créons le dataframe\n",
    "\n",
    "Récupérez le fichier `data_mm02_person.csv` et importez-le dans un dataframe."
   ]
  },
  {
   "cell_type": "code",
   "execution_count": 26,
   "id": "9222fdcd-7ee5-42bc-ad99-fac4fa4f9213",
   "metadata": {},
   "outputs": [
    {
     "name": "stdout",
     "output_type": "stream",
     "text": [
      "   prenom                                   email date_naissance  \\\n",
      "0   Leila                       leila@example.com     23/01/1990   \n",
      "1  Samuel                  samuel_329@example.com     20/09/2001   \n",
      "2   Radia                choupipoune@supermail.eu  12 Sept. 1984   \n",
      "3    Marc  marco23@example.com, mc23@supermail.eu     10/02/1978   \n",
      "4    Heri                 helloworld@supermail.eu     05/03/2008   \n",
      "\n",
      "            pays taille  \n",
      "0         France  1.49m  \n",
      "1            NaN  1.67m  \n",
      "2  Côte d'ivoire  153cm  \n",
      "3         France  1.65m  \n",
      "4     Madagascar  1.34m  \n"
     ]
    }
   ],
   "source": [
    "data_mm02_person = pd.read_csv('data_mm02_person.csv')\n",
    "print(data_mm02_person.head())"
   ]
  },
  {
   "cell_type": "markdown",
   "id": "f9d3db48-2193-432f-93d1-28af7b61d385",
   "metadata": {},
   "source": [
    "## E2Q2. Regardons de plus près les valeurs nulles\n",
    "\n",
    "* Déterminez le nombre de valeurs nulles par catégorie, en combinant les méthodes `isnull()` et `sum()`.\n",
    "> *Veillez à n’afficher que les catégories pour lesquelles il existe des valeurs nulles.*\n",
    "* Affichez toutes les lignes contenant au moins une valeur nulle, grâce à la méthode `any(...)` et son option `axis`."
   ]
  },
  {
   "cell_type": "code",
   "execution_count": 27,
   "id": "f3dfd90a-dc6e-4157-b3bd-d21a50a08f62",
   "metadata": {},
   "outputs": [
    {
     "name": "stdout",
     "output_type": "stream",
     "text": [
      "date_naissance    1\n",
      "pays              1\n",
      "dtype: int64\n",
      "   prenom                   email date_naissance   pays taille\n",
      "1  Samuel  samuel_329@example.com     20/09/2001    NaN  1.67m\n",
      "6  samuël  samuel_329@example.com            NaN  Bénin  1.45m\n"
     ]
    }
   ],
   "source": [
    "# Determine the number of null values per category\n",
    "null_values_per_category = data_mm02_person.isnull().sum()\n",
    "null_values_per_category = null_values_per_category[null_values_per_category > 0]\n",
    "print(null_values_per_category)\n",
    "\n",
    "# Display all rows containing at least one null value\n",
    "rows_with_null_values = data_mm02_person[data_mm02_person.isnull().any(axis=1)]\n",
    "print(rows_with_null_values)"
   ]
  },
  {
   "cell_type": "markdown",
   "id": "5195eb6e-f37c-4edd-b5a3-fdd7c908d3c4",
   "metadata": {},
   "source": [
    "## E2Q3. Les erreurs lexicales : commençons par regarder les pays.\n",
    "\n",
    "* Établissez une liste sans doublon des pays représentés, via la méthode `unique()`.\n",
    "* Une valeur n’est clairement pas un nom de pays. Affectez la valeur `np.NaN` à toutes les lignes dont le champ `pays` n’est pas correct. La méthode `isin(...)` pourra vous servir."
   ]
  },
  {
   "cell_type": "code",
   "execution_count": 38,
   "id": "1768afbc-89c3-401e-9c6e-f49b157532cb",
   "metadata": {},
   "outputs": [
    {
     "name": "stdout",
     "output_type": "stream",
     "text": [
      "['France' nan \"Côte d'ivoire\" 'Madagascar' 'Bénin']\n",
      "['France' \"Côte d'ivoire\" 'Madagascar' 'Bénin']\n",
      "0           France\n",
      "1              NaN\n",
      "2    Côte d'ivoire\n",
      "3           France\n",
      "4       Madagascar\n",
      "5              NaN\n",
      "6            Bénin\n",
      "Name: pays, dtype: object\n"
     ]
    }
   ],
   "source": [
    "import numpy as np\n",
    "\n",
    "# Establish a list of unique countries\n",
    "unique_countries = data_mm02_person['pays'].unique()\n",
    "print(unique_countries)\n",
    "\n",
    "# Filter unique countries to exclude null, numbers, and empty strings\n",
    "unique_countries = unique_countries[~pd.isnull(unique_countries)]\n",
    "unique_countries = unique_countries.astype(str)\n",
    "unique_countries = unique_countries[~np.char.isdigit(unique_countries)]\n",
    "unique_countries = unique_countries[unique_countries != '']\n",
    "print(unique_countries)\n",
    "\n",
    "# Remplace pays who's not in unique_countries by np.nan use isin\n",
    "data_mm02_person['pays'] = data_mm02_person['pays'].where(data_mm02_person['pays'].isin(unique_countries))\n",
    "print(data_mm02_person['pays'])\n"
   ]
  },
  {
   "cell_type": "markdown",
   "id": "09bb115d-dbdd-4cc3-a325-cddfbb282614",
   "metadata": {},
   "source": [
    "## E2Q4. Intéressons-nous aux tailles et aux erreurs d’irrégularité.\n",
    "\n",
    "* Affichez les données qui ne sont pas exprimées en mètre (par indexation booléenne, grâce à méthode `contains(...)` en cherchant les unités).\n",
    "* Corrigez manuellement cette erreur (puisqu’elle est peu répandue) pour obtenir une colonne homogène et exploitable.\n",
    "* Créez une nouvelle colonne `taille_cm` entière contenant les tailles en centimètres (et uniquement les valeurs numériques, pas d’unité, via la méthode `replace(...)`).\n",
    "> Notez que la méthode `astype(...)` est utile pour typer correctement une nouvelle colonne.\n",
    "* Supprimez la colonne taille dont le format ne permet pas son exploitation, grâce à la méthode `drop(...)`.\n",
    "* Pour plus d’aisance, renommez la colonne `taille_cm` en `taille` via la méthode `rename(...)`.\n",
    "* On peut traiter les colonnes de manière plus automatique. Voici les poids correspondants aux personnes. Ajoutez une colonne `poids` contenant ces données à votre dataframe.\n",
    "\n",
    "               poids = [\"65000g\", \"88400g\", \"68000g\", \"75200g\", \"00Kg\", \"70200g\", \"70200g\"]"
   ]
  },
  {
   "cell_type": "code",
   "execution_count": 39,
   "id": "9ef9f1c6-082e-47a4-80e5-041e8f9ec17c",
   "metadata": {},
   "outputs": [
    {
     "name": "stdout",
     "output_type": "stream",
     "text": [
      "  prenom                     email date_naissance           pays taille\n",
      "2  Radia  choupipoune@supermail.eu  12 Sept. 1984  Côte d'ivoire  153cm\n",
      "   prenom                                   email date_naissance  \\\n",
      "0   Leila                       leila@example.com     23/01/1990   \n",
      "1  Samuel                  samuel_329@example.com     20/09/2001   \n",
      "2   Radia                choupipoune@supermail.eu  12 Sept. 1984   \n",
      "3    Marc  marco23@example.com, mc23@supermail.eu     10/02/1978   \n",
      "4    Heri                 helloworld@supermail.eu     05/03/2008   \n",
      "5   Hanna                  hanna2019@supermail.eu     01/01/1970   \n",
      "6  samuël                  samuel_329@example.com            NaN   \n",
      "\n",
      "            pays  taille   poids  \n",
      "0         France     149  65000g  \n",
      "1            NaN     167  88400g  \n",
      "2  Côte d'ivoire     153  68000g  \n",
      "3         France     165  75200g  \n",
      "4     Madagascar     134    00Kg  \n",
      "5            NaN     345  70200g  \n",
      "6          Bénin     145  70200g  \n"
     ]
    }
   ],
   "source": [
    "# Display data not expressed in meters\n",
    "non_meter_data = data_mm02_person[data_mm02_person['taille'].str.contains('cm')]\n",
    "print(non_meter_data)\n",
    "\n",
    "# Manually correct the error\n",
    "data_mm02_person.loc[data_mm02_person['taille'].str.contains('cm'), 'taille'] = '1.53m'\n",
    "\n",
    "# Create a new column 'taille_cm' containing heights in centimeters\n",
    "data_mm02_person['taille_cm'] = data_mm02_person['taille'].str.replace('m', '').astype(float) * 100\n",
    "data_mm02_person['taille_cm'] = data_mm02_person['taille_cm'].astype(int)\n",
    "\n",
    "# Drop the original 'taille' column\n",
    "data_mm02_person = data_mm02_person.drop(columns=['taille'])\n",
    "\n",
    "# Rename the 'taille_cm' column to 'taille'\n",
    "data_mm02_person = data_mm02_person.rename(columns={'taille_cm': 'taille'})\n",
    "\n",
    "# Add a column 'poids' containing the provided weights\n",
    "poids = [\"65000g\", \"88400g\", \"68000g\", \"75200g\", \"00Kg\", \"70200g\", \"70200g\"]\n",
    "data_mm02_person['poids'] = poids\n",
    "\n",
    "print(data_mm02_person)"
   ]
  },
  {
   "cell_type": "markdown",
   "id": "23362152-6899-4352-8923-d5da901cf0d6",
   "metadata": {},
   "source": [
    "* Supprimez le dernier caractère dans cette colonne (pour normalement obtenir uniquement des chiffres). On fermera volontairement les yeux sur les éventuelles erreurs dans cette liste. Convertissez ensuite la colonne poids en valeurs numériques grâce à la méthode `pd.to_numeric(...)` tout en forçant les erreurs de conversion à des valeurs manquantes (`np.NaN)`, via l’option `errors`.\n",
    "* Remplacez les éventuelles valeurs manquantes de la colonne `poids` par la moyenne des valeurs existantes. "
   ]
  },
  {
   "cell_type": "code",
   "execution_count": 40,
   "id": "f833eddd-9026-47e9-b057-9a3f648ec5b3",
   "metadata": {},
   "outputs": [
    {
     "name": "stdout",
     "output_type": "stream",
     "text": [
      "   prenom                                   email date_naissance  \\\n",
      "0   Leila                       leila@example.com     23/01/1990   \n",
      "1  Samuel                  samuel_329@example.com     20/09/2001   \n",
      "2   Radia                choupipoune@supermail.eu  12 Sept. 1984   \n",
      "3    Marc  marco23@example.com, mc23@supermail.eu     10/02/1978   \n",
      "4    Heri                 helloworld@supermail.eu     05/03/2008   \n",
      "5   Hanna                  hanna2019@supermail.eu     01/01/1970   \n",
      "6  samuël                  samuel_329@example.com            NaN   \n",
      "\n",
      "            pays  taille         poids  \n",
      "0         France     149  65000.000000  \n",
      "1            NaN     167  88400.000000  \n",
      "2  Côte d'ivoire     153  68000.000000  \n",
      "3         France     165  75200.000000  \n",
      "4     Madagascar     134  72833.333333  \n",
      "5            NaN     345  70200.000000  \n",
      "6          Bénin     145  70200.000000  \n"
     ]
    }
   ],
   "source": [
    "# Remove the last character in the 'poids' column\n",
    "data_mm02_person['poids'] = data_mm02_person['poids'].str[:-1]\n",
    "\n",
    "# Convert the 'poids' column to numeric values, forcing errors to NaN\n",
    "data_mm02_person['poids'] = pd.to_numeric(data_mm02_person['poids'], errors='coerce')\n",
    "\n",
    "# Replace missing values in the 'poids' column with the mean of the existing values\n",
    "mean_poids = data_mm02_person['poids'].mean()\n",
    "data_mm02_person['poids'].fillna(mean_poids, inplace=True)\n",
    "\n",
    "print(data_mm02_person)"
   ]
  },
  {
   "cell_type": "markdown",
   "id": "6248e378-39fb-4e0a-a3fe-4bbd99256f07",
   "metadata": {},
   "source": [
    "## E2Q5. Intéressons-nous maintenant aux courriels et aux erreurs de formattage.\n",
    "\n",
    "* Certaines lignes contiennent plusieurs valeurs au lieu d’une. Générez une série déterminant le nombre de caractère `@` dans chaque valeur de la colonne `email`, via la méthode `count()`. Affichez les données où plusieurs courriels sont fournis.\n",
    "* Conservez uniquement la dernière valeur. Veillez à ne pas faire un code ad-hoc et ne pas corriger manuellement la ligne.\n",
    "* On peut également constater que toutes les dates ne respectent pas le même format. Il convient de régler la question. Il faut procéder en deux fois :\n",
    "    * Créez une nouvelle colonne `naiss` en faisant une conversion selon un premier format (`%d/%m/%Y` par exemple) grâce à la méthode `pd.to_datetime(...)`, en spécifiant ce format et en écartant les échecs (comme pour les poids) par l’option `errors` ;\n",
    "    * Refaites une conversion selon un autre format (`%d %b. %Y` en l’occurrence) pour les valeurs nulles de cette nouvelle colonne.\n",
    "* Terminez proprement en remplaçant l’ancienne colonne par la nouvelle, contenant les mêmes dates mais qui respectent un même format et sont donc exploitables."
   ]
  },
  {
   "cell_type": "code",
   "execution_count": 44,
   "id": "eb5d05b5-616b-41d6-a7b2-28128bbcee5d",
   "metadata": {
    "vscode": {
     "languageId": "ruby"
    }
   },
   "outputs": [
    {
     "name": "stdout",
     "output_type": "stream",
     "text": [
      "Empty DataFrame\n",
      "Columns: [prenom, email, date_naissance, pays, taille, poids]\n",
      "Index: []\n",
      "   prenom                     email date_naissance           pays  taille  \\\n",
      "0   Leila         leila@example.com     1990-01-23         France     149   \n",
      "1  Samuel    samuel_329@example.com     2001-09-20            NaN     167   \n",
      "2   Radia  choupipoune@supermail.eu            NaT  Côte d'ivoire     153   \n",
      "3    Marc         mc23@supermail.eu     1978-02-10         France     165   \n",
      "4    Heri   helloworld@supermail.eu     2008-03-05     Madagascar     134   \n",
      "5   Hanna    hanna2019@supermail.eu     1970-01-01            NaN     345   \n",
      "6  samuël    samuel_329@example.com            NaT          Bénin     145   \n",
      "\n",
      "          poids  \n",
      "0  65000.000000  \n",
      "1  88400.000000  \n",
      "2  68000.000000  \n",
      "3  75200.000000  \n",
      "4  72833.333333  \n",
      "5  70200.000000  \n",
      "6  70200.000000  \n"
     ]
    }
   ],
   "source": [
    "# Generate a series determining the number of '@' characters in each email\n",
    "email_at_counts = data_mm02_person['email'].str.count('@')\n",
    "\n",
    "# Display data where multiple emails are provided\n",
    "multiple_emails = data_mm02_person[email_at_counts > 1]\n",
    "print(multiple_emails)\n",
    "\n",
    "# Keep only the last email in the 'email' column\n",
    "data_mm02_person['email'] = data_mm02_person['email'].apply(lambda x: x.split(',')[-1].strip())\n",
    "\n",
    "# Create a new column 'naiss' with conversion according to the first format\n",
    "data_mm02_person['naiss'] = pd.to_datetime(data_mm02_person['date_naissance'], format='%d/%m/%Y', errors='coerce')\n",
    "\n",
    "# Convert according to another format for null values in 'naiss'\n",
    "data_mm02_person.loc[data_mm02_person['naiss'].isnull(), 'naiss'] = pd.to_datetime(\n",
    "  data_mm02_person.loc[data_mm02_person['naiss'].isnull(), 'date_naissance'], \n",
    "  format='%d %b. %Y', \n",
    "  errors='coerce'\n",
    ")\n",
    "\n",
    "# Replace the old 'date_naissance' column with the new 'naiss' column\n",
    "data_mm02_person['date_naissance'] = data_mm02_person['naiss']\n",
    "data_mm02_person = data_mm02_person.drop(columns=['naiss'])\n",
    "\n",
    "print(data_mm02_person)"
   ]
  },
  {
   "cell_type": "markdown",
   "id": "e1501280-4a3c-4e54-b242-a16570fdf086",
   "metadata": {},
   "source": [
    "## E2Q6. Intéressons-nous enfin au cas des doublons.\n",
    "\n",
    "* Affichez les lignes en doublons, d’après leur courriel, grâce à la méthode `duplicated(...)`.\n",
    "* Vous pouvez constater que chacune des lignes apportent son lot d’information. Il faut consolider tout ça au cas par cas en complétant la première occurence avec les informations supplémentaires fournies par les autres occurences. En cas de valeurs incohérentes, on affectera la moyenne des valeurs existantes.\n",
    "* Supprimez les doublons en conservant la première occurence, qui contient désormais les données aggrégées, via la méthode `drop_duplicates(...)`."
   ]
  },
  {
   "cell_type": "code",
   "execution_count": 47,
   "id": "e396994c",
   "metadata": {},
   "outputs": [
    {
     "name": "stdout",
     "output_type": "stream",
     "text": [
      "Empty DataFrame\n",
      "Columns: [prenom, email, date_naissance, pays, taille, poids]\n",
      "Index: []\n",
      "   prenom                     email date_naissance           pays  taille  \\\n",
      "0   Leila         leila@example.com     1990-01-23         France     149   \n",
      "1  Samuel    samuel_329@example.com     2001-09-20            NaN     167   \n",
      "2   Radia  choupipoune@supermail.eu            NaT  Côte d'ivoire     153   \n",
      "3    Marc         mc23@supermail.eu     1978-02-10         France     165   \n",
      "4    Heri   helloworld@supermail.eu     2008-03-05     Madagascar     134   \n",
      "5   Hanna    hanna2019@supermail.eu     1970-01-01            NaN     345   \n",
      "\n",
      "          poids  \n",
      "0  65000.000000  \n",
      "1  88400.000000  \n",
      "2  68000.000000  \n",
      "3  75200.000000  \n",
      "4  72833.333333  \n",
      "5  70200.000000  \n"
     ]
    }
   ],
   "source": [
    "# Display duplicate rows based on their email\n",
    "duplicate_rows = data_mm02_person[data_mm02_person.duplicated(subset='email', keep=False)]\n",
    "print(duplicate_rows)\n",
    "\n",
    "# Consolidate duplicate rows by filling missing values in the first occurrence\n",
    "for index, row in duplicate_rows.iterrows():\n",
    "  first_occurrence = data_mm02_person.loc[data_mm02_person['email'] == row['email']].iloc[0]\n",
    "  for column in data_mm02_person.columns:\n",
    "    if pd.isnull(first_occurrence[column]) and not pd.isnull(row[column]):\n",
    "      data_mm02_person.at[first_occurrence.name, column] = row[column]\n",
    "    elif column in ['taille', 'poids'] and first_occurrence[column] != row[column]:\n",
    "      data_mm02_person.at[first_occurrence.name, column] = data_mm02_person[[column]].mean()\n",
    "\n",
    "# Remove duplicate rows, keeping the first occurrence\n",
    "data_mm02_person = data_mm02_person.drop_duplicates(subset='email', keep='first')\n",
    "\n",
    "print(data_mm02_person)"
   ]
  }
 ],
 "metadata": {
  "kernelspec": {
   "display_name": "Python 3 (ipykernel)",
   "language": "python",
   "name": "python3"
  },
  "language_info": {
   "codemirror_mode": {
    "name": "ipython",
    "version": 3
   },
   "file_extension": ".py",
   "mimetype": "text/x-python",
   "name": "python",
   "nbconvert_exporter": "python",
   "pygments_lexer": "ipython3",
   "version": "3.11.2"
  }
 },
 "nbformat": 4,
 "nbformat_minor": 5
}
